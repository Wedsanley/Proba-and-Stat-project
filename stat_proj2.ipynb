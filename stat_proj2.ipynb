{
  "nbformat": 4,
  "nbformat_minor": 0,
  "metadata": {
    "interpreter": {
      "hash": "aee8b7b246df8f9039afb4144a1f6fd8d2ca17a180786b69acc140d282b71a49"
    },
    "kernelspec": {
      "display_name": "Python 3.9.6 64-bit",
      "name": "python3"
    },
    "language_info": {
      "codemirror_mode": {
        "name": "ipython",
        "version": 3
      },
      "file_extension": ".py",
      "mimetype": "text/x-python",
      "name": "python",
      "nbconvert_exporter": "python",
      "pygments_lexer": "ipython3",
      "version": "3.9.6"
    },
    "orig_nbformat": 4,
    "colab": {
      "name": "stat_proj2.ipynb",
      "provenance": [],
      "collapsed_sections": []
    }
  },
  "cells": [
    {
      "cell_type": "code",
      "metadata": {
        "id": "m8UaGdO9Aubk"
      },
      "source": [
        "import numpy as np\n",
        "import pandas as pd\n",
        "import matplotlib.pyplot as plt\n",
        "import seaborn as sns\n",
        "from dateutil import relativedelta as rdelta\n",
        "from datetime import date, timedelta\n",
        "from scipy.stats import kurtosis, skew, chi2_contingency, shapiro, jarque_bera, f_oneway, ttest_1samp\n",
        "plt.style.use(\"ggplot\")"
      ],
      "execution_count": 75,
      "outputs": []
    },
    {
      "cell_type": "markdown",
      "metadata": {
        "id": "vxM2m0mAAubx"
      },
      "source": [
        "# Ayiti Analytics Probability and Statistics Project"
      ]
    },
    {
      "cell_type": "markdown",
      "metadata": {
        "id": "pRW0p3jbAub1"
      },
      "source": [
        "Use all the files to have a final datasets to have the following columns\n",
        "   <ul>\n",
        "    <li>questid</li>\n",
        "    <li>gender</li>\n",
        "    <li>age (age of applicant)</li>\n",
        "    <li>communeName (use data prep in commune file)</li>\n",
        "    <li>application_date (created at in quest file)</li>\n",
        "    <li>enroll_date (created_at in enroll file)</li>\n",
        "    <li>is_enroll (Yes/No) (use data prep in enroll file)</li>\n",
        "    <li>Education Level</li>\n",
        "   <li>Communication channels(hear_AA1)</li>\n",
        "    <li>Bootcamp Insterest (after_AA)</li>\n",
        "    <li>Payement Date (use ord and transaction files)</li>\n",
        "    <li>Payed (Yes/No)</li>\n",
        "    <li>list Technologies as columns based (use get_dummies)</li>\n",
        "    <li>list  Study domains (use get_dummies)</li>\n",
        "    <li>Job is formal</li>\n",
        "    <li>Have computer at home</li>\n",
        "    <li>Have internet at home</li>\n",
        "    \n",
        "   </ul>\n",
        "   "
      ]
    },
    {
      "cell_type": "markdown",
      "metadata": {
        "id": "DmNr4v4kEcP5"
      },
      "source": [
        "Files importation"
      ]
    },
    {
      "cell_type": "code",
      "metadata": {
        "id": "Rl19S-TCB1Nm"
      },
      "source": [
        "commune = pd.read_excel(r\"commune.xlsx\")\n",
        "enroll = pd.read_csv(r\"enroll.csv\")\n",
        "quest = pd.read_csv(r\"quest.csv\")\n",
        "industry = pd.read_csv(r\"industry.csv\")\n",
        "ord = pd.read_csv(r\"ord.csv\")\n",
        "study_domain = pd.read_csv(r\"study_domain.csv\")\n",
        "transaction = pd.read_csv(r\"transaction.csv\")\n",
        "technology = pd.read_csv(r\"technology.csv\")"
      ],
      "execution_count": 2,
      "outputs": []
    },
    {
      "cell_type": "markdown",
      "metadata": {
        "id": "M6zlqcUwE5Vj"
      },
      "source": [
        "Data Processing"
      ]
    },
    {
      "cell_type": "code",
      "metadata": {
        "id": "yh-jKQpQE945"
      },
      "source": [
        "quest_db = quest.drop([\"Unnamed: 0\", \"modified_at\",\"department\", \"university\", \"study_domain\", \"current_employed\"], axis=1)"
      ],
      "execution_count": 3,
      "outputs": []
    },
    {
      "cell_type": "code",
      "metadata": {
        "id": "fG90amMAWx1e"
      },
      "source": [
        "def arrange_date(data, col=\"\"):\n",
        "  data[col] = data[col].str[:10]\n",
        "  data[col] = pd.to_datetime(data[col])\n",
        "  return col"
      ],
      "execution_count": 4,
      "outputs": []
    },
    {
      "cell_type": "code",
      "metadata": {
        "id": "zG7r3ThcHE9q"
      },
      "source": [
        "                                               quest_db.rename(columns={\"created_at\": \"application_date\", \"hear_AA_1\":\"channels\",\"after_AA\":\"interest\"}, inplace=True)\n",
        "arrange_date(quest_db, col=\"application_date\")\n",
        "quest_db[\"dob\"].replace({\"3 aout 1977\": \"3/08/1977\"}, inplace=True)\n",
        "quest_db[\"dob\"] = pd.to_datetime(quest_db[\"dob\"])"
      ],
      "execution_count": 5,
      "outputs": []
    },
    {
      "cell_type": "code",
      "metadata": {
        "id": "GA-qyrqMN3V7"
      },
      "source": [
        "quest_db[\"age\"] = (-(quest_db[\"dob\"]-quest_db[\"application_date\"])//timedelta(days=365))"
      ],
      "execution_count": 6,
      "outputs": []
    },
    {
      "cell_type": "code",
      "metadata": {
        "id": "6Cajf09zHVUi",
        "colab": {
          "base_uri": "https://localhost:8080/"
        },
        "outputId": "13f591c7-f18f-4693-d78d-26bd1e01283a"
      },
      "source": [
        "quest_db.columns"
      ],
      "execution_count": 7,
      "outputs": [
        {
          "output_type": "execute_result",
          "data": {
            "text/plain": [
              "Index(['gender', 'dob', 'commune', 'application_date', 'education_level',\n",
              "       'formal_sector_job', 'have_computer_home', 'internet_at_home',\n",
              "       'channels', 'interest', 'quest_id', 'age'],\n",
              "      dtype='object')"
            ]
          },
          "metadata": {
            "tags": []
          },
          "execution_count": 7
        }
      ]
    },
    {
      "cell_type": "code",
      "metadata": {
        "id": "CFNhNVMpPS9P",
        "colab": {
          "base_uri": "https://localhost:8080/"
        },
        "outputId": "feb6ceda-c622-4db4-8486-36ce436ca350"
      },
      "source": [
        "quest_db.info()"
      ],
      "execution_count": 8,
      "outputs": [
        {
          "output_type": "stream",
          "text": [
            "<class 'pandas.core.frame.DataFrame'>\n",
            "RangeIndex: 250 entries, 0 to 249\n",
            "Data columns (total 12 columns):\n",
            " #   Column              Non-Null Count  Dtype         \n",
            "---  ------              --------------  -----         \n",
            " 0   gender              250 non-null    object        \n",
            " 1   dob                 244 non-null    datetime64[ns]\n",
            " 2   commune             250 non-null    object        \n",
            " 3   application_date    250 non-null    datetime64[ns]\n",
            " 4   education_level     250 non-null    object        \n",
            " 5   formal_sector_job   250 non-null    object        \n",
            " 6   have_computer_home  250 non-null    object        \n",
            " 7   internet_at_home    250 non-null    object        \n",
            " 8   channels            250 non-null    object        \n",
            " 9   interest            250 non-null    object        \n",
            " 10  quest_id            250 non-null    object        \n",
            " 11  age                 244 non-null    float64       \n",
            "dtypes: datetime64[ns](2), float64(1), object(9)\n",
            "memory usage: 23.6+ KB\n"
          ],
          "name": "stdout"
        }
      ]
    },
    {
      "cell_type": "code",
      "metadata": {
        "id": "Ie8J-Eq69sFm",
        "colab": {
          "base_uri": "https://localhost:8080/",
          "height": 623
        },
        "outputId": "de9f5696-836c-4dd2-bca4-08b0cac8a0a6"
      },
      "source": [
        "quest_db[quest_db[\"age\"]<2] #invalid ages need to be replaced"
      ],
      "execution_count": 9,
      "outputs": [
        {
          "output_type": "execute_result",
          "data": {
            "text/html": [
              "<div>\n",
              "<style scoped>\n",
              "    .dataframe tbody tr th:only-of-type {\n",
              "        vertical-align: middle;\n",
              "    }\n",
              "\n",
              "    .dataframe tbody tr th {\n",
              "        vertical-align: top;\n",
              "    }\n",
              "\n",
              "    .dataframe thead th {\n",
              "        text-align: right;\n",
              "    }\n",
              "</style>\n",
              "<table border=\"1\" class=\"dataframe\">\n",
              "  <thead>\n",
              "    <tr style=\"text-align: right;\">\n",
              "      <th></th>\n",
              "      <th>gender</th>\n",
              "      <th>dob</th>\n",
              "      <th>commune</th>\n",
              "      <th>application_date</th>\n",
              "      <th>education_level</th>\n",
              "      <th>formal_sector_job</th>\n",
              "      <th>have_computer_home</th>\n",
              "      <th>internet_at_home</th>\n",
              "      <th>channels</th>\n",
              "      <th>interest</th>\n",
              "      <th>quest_id</th>\n",
              "      <th>age</th>\n",
              "    </tr>\n",
              "  </thead>\n",
              "  <tbody>\n",
              "    <tr>\n",
              "      <th>25</th>\n",
              "      <td>male</td>\n",
              "      <td>2021-02-28</td>\n",
              "      <td>ht0111</td>\n",
              "      <td>2021-02-19</td>\n",
              "      <td>High School (16 years)</td>\n",
              "      <td>Yes</td>\n",
              "      <td>Yes</td>\n",
              "      <td>Yes</td>\n",
              "      <td>WhatsApp</td>\n",
              "      <td>Mentorship</td>\n",
              "      <td>906036c8-ce95-11eb-8c78-7c67a234f601</td>\n",
              "      <td>-1.0</td>\n",
              "    </tr>\n",
              "    <tr>\n",
              "      <th>92</th>\n",
              "      <td>male</td>\n",
              "      <td>2021-08-14</td>\n",
              "      <td>ht0112</td>\n",
              "      <td>2021-02-18</td>\n",
              "      <td>Other</td>\n",
              "      <td>unknown</td>\n",
              "      <td>Yes</td>\n",
              "      <td>Yes</td>\n",
              "      <td>Friend</td>\n",
              "      <td>Improving my data analysis skills</td>\n",
              "      <td>9064923b-ce95-11eb-a771-7c67a234f601</td>\n",
              "      <td>-1.0</td>\n",
              "    </tr>\n",
              "    <tr>\n",
              "      <th>176</th>\n",
              "      <td>male</td>\n",
              "      <td>2021-02-18</td>\n",
              "      <td>ht0114</td>\n",
              "      <td>2021-02-19</td>\n",
              "      <td>Bachelors (bacc +4)</td>\n",
              "      <td>unknown</td>\n",
              "      <td>Yes</td>\n",
              "      <td>No</td>\n",
              "      <td>WhatsApp</td>\n",
              "      <td>Training to start my own company</td>\n",
              "      <td>9067e4c0-ce95-11eb-bebe-7c67a234f601</td>\n",
              "      <td>0.0</td>\n",
              "    </tr>\n",
              "    <tr>\n",
              "      <th>209</th>\n",
              "      <td>female</td>\n",
              "      <td>2020-01-22</td>\n",
              "      <td>ht0711</td>\n",
              "      <td>2021-02-16</td>\n",
              "      <td>Other</td>\n",
              "      <td>unknown</td>\n",
              "      <td>No</td>\n",
              "      <td>No</td>\n",
              "      <td>WhatsApp</td>\n",
              "      <td>Improving my data analysis skills</td>\n",
              "      <td>9069a205-ce95-11eb-be5a-7c67a234f601</td>\n",
              "      <td>1.0</td>\n",
              "    </tr>\n",
              "    <tr>\n",
              "      <th>210</th>\n",
              "      <td>female</td>\n",
              "      <td>2021-05-08</td>\n",
              "      <td>ht0117</td>\n",
              "      <td>2021-02-17</td>\n",
              "      <td>Other</td>\n",
              "      <td>unknown</td>\n",
              "      <td>Yes</td>\n",
              "      <td>Yes</td>\n",
              "      <td>ESIH</td>\n",
              "      <td>Improving my data analysis skills</td>\n",
              "      <td>9069a206-ce95-11eb-9c6f-7c67a234f601</td>\n",
              "      <td>-1.0</td>\n",
              "    </tr>\n",
              "    <tr>\n",
              "      <th>219</th>\n",
              "      <td>male</td>\n",
              "      <td>2021-07-25</td>\n",
              "      <td>ht0432</td>\n",
              "      <td>2021-02-19</td>\n",
              "      <td>Bachelors (bacc +4)</td>\n",
              "      <td>unknown</td>\n",
              "      <td>Yes</td>\n",
              "      <td>Yes</td>\n",
              "      <td>Facebook</td>\n",
              "      <td>Finding a job/internship</td>\n",
              "      <td>9069ddd8-ce95-11eb-b0fb-7c67a234f601</td>\n",
              "      <td>-1.0</td>\n",
              "    </tr>\n",
              "    <tr>\n",
              "      <th>229</th>\n",
              "      <td>male</td>\n",
              "      <td>2021-07-18</td>\n",
              "      <td>ht0421</td>\n",
              "      <td>2021-02-20</td>\n",
              "      <td>Bachelors (bacc +4)</td>\n",
              "      <td>Yes</td>\n",
              "      <td>Yes</td>\n",
              "      <td>Yes</td>\n",
              "      <td>Facebook</td>\n",
              "      <td>Improving my data analysis skills</td>\n",
              "      <td>906a52b4-ce95-11eb-b9bd-7c67a234f601</td>\n",
              "      <td>-1.0</td>\n",
              "    </tr>\n",
              "  </tbody>\n",
              "</table>\n",
              "</div>"
            ],
            "text/plain": [
              "     gender        dob  ...                              quest_id  age\n",
              "25     male 2021-02-28  ...  906036c8-ce95-11eb-8c78-7c67a234f601 -1.0\n",
              "92     male 2021-08-14  ...  9064923b-ce95-11eb-a771-7c67a234f601 -1.0\n",
              "176    male 2021-02-18  ...  9067e4c0-ce95-11eb-bebe-7c67a234f601  0.0\n",
              "209  female 2020-01-22  ...  9069a205-ce95-11eb-be5a-7c67a234f601  1.0\n",
              "210  female 2021-05-08  ...  9069a206-ce95-11eb-9c6f-7c67a234f601 -1.0\n",
              "219    male 2021-07-25  ...  9069ddd8-ce95-11eb-b0fb-7c67a234f601 -1.0\n",
              "229    male 2021-07-18  ...  906a52b4-ce95-11eb-b9bd-7c67a234f601 -1.0\n",
              "\n",
              "[7 rows x 12 columns]"
            ]
          },
          "metadata": {
            "tags": []
          },
          "execution_count": 9
        }
      ]
    },
    {
      "cell_type": "code",
      "metadata": {
        "id": "zxZUw8q2drGk",
        "colab": {
          "base_uri": "https://localhost:8080/",
          "height": 541
        },
        "outputId": "e61d6305-c9e6-4781-d3e9-f856871a97ab"
      },
      "source": [
        "quest_db[quest_db[\"age\"].isnull()] #NaN ages needed to be replaced "
      ],
      "execution_count": 10,
      "outputs": [
        {
          "output_type": "execute_result",
          "data": {
            "text/html": [
              "<div>\n",
              "<style scoped>\n",
              "    .dataframe tbody tr th:only-of-type {\n",
              "        vertical-align: middle;\n",
              "    }\n",
              "\n",
              "    .dataframe tbody tr th {\n",
              "        vertical-align: top;\n",
              "    }\n",
              "\n",
              "    .dataframe thead th {\n",
              "        text-align: right;\n",
              "    }\n",
              "</style>\n",
              "<table border=\"1\" class=\"dataframe\">\n",
              "  <thead>\n",
              "    <tr style=\"text-align: right;\">\n",
              "      <th></th>\n",
              "      <th>gender</th>\n",
              "      <th>dob</th>\n",
              "      <th>commune</th>\n",
              "      <th>application_date</th>\n",
              "      <th>education_level</th>\n",
              "      <th>formal_sector_job</th>\n",
              "      <th>have_computer_home</th>\n",
              "      <th>internet_at_home</th>\n",
              "      <th>channels</th>\n",
              "      <th>interest</th>\n",
              "      <th>quest_id</th>\n",
              "      <th>age</th>\n",
              "    </tr>\n",
              "  </thead>\n",
              "  <tbody>\n",
              "    <tr>\n",
              "      <th>35</th>\n",
              "      <td>male</td>\n",
              "      <td>NaT</td>\n",
              "      <td>ht0111</td>\n",
              "      <td>2021-02-23</td>\n",
              "      <td>Other</td>\n",
              "      <td>unknown</td>\n",
              "      <td>Yes</td>\n",
              "      <td>Yes</td>\n",
              "      <td>WhatsApp</td>\n",
              "      <td>Training to start my own company</td>\n",
              "      <td>9060e347-ce95-11eb-abbb-7c67a234f601</td>\n",
              "      <td>NaN</td>\n",
              "    </tr>\n",
              "    <tr>\n",
              "      <th>58</th>\n",
              "      <td>male</td>\n",
              "      <td>NaT</td>\n",
              "      <td>ht0111</td>\n",
              "      <td>2021-03-14</td>\n",
              "      <td>Bachelors (bacc +4)</td>\n",
              "      <td>unknown</td>\n",
              "      <td>Yes</td>\n",
              "      <td>Yes</td>\n",
              "      <td>ESIH</td>\n",
              "      <td>other</td>\n",
              "      <td>906241d5-ce95-11eb-9850-7c67a234f601</td>\n",
              "      <td>NaN</td>\n",
              "    </tr>\n",
              "    <tr>\n",
              "      <th>116</th>\n",
              "      <td>female</td>\n",
              "      <td>NaT</td>\n",
              "      <td>ht0112</td>\n",
              "      <td>2021-03-03</td>\n",
              "      <td>Bachelors (bacc +4)</td>\n",
              "      <td>unknown</td>\n",
              "      <td>Yes</td>\n",
              "      <td>Yes</td>\n",
              "      <td>Friend</td>\n",
              "      <td>Improving my data analysis skills</td>\n",
              "      <td>9065822a-ce95-11eb-9df5-7c67a234f601</td>\n",
              "      <td>NaN</td>\n",
              "    </tr>\n",
              "    <tr>\n",
              "      <th>154</th>\n",
              "      <td>female</td>\n",
              "      <td>NaT</td>\n",
              "      <td>ht0113</td>\n",
              "      <td>2021-02-18</td>\n",
              "      <td>Bachelors (bacc +4)</td>\n",
              "      <td>unknown</td>\n",
              "      <td>Yes</td>\n",
              "      <td>Yes</td>\n",
              "      <td>Facebook</td>\n",
              "      <td>Finding a job/internship</td>\n",
              "      <td>9066fab1-ce95-11eb-a4e2-7c67a234f601</td>\n",
              "      <td>NaN</td>\n",
              "    </tr>\n",
              "    <tr>\n",
              "      <th>194</th>\n",
              "      <td>male</td>\n",
              "      <td>NaT</td>\n",
              "      <td>ht0131</td>\n",
              "      <td>2021-02-16</td>\n",
              "      <td>Bachelors (bacc +4)</td>\n",
              "      <td>unknown</td>\n",
              "      <td>Yes</td>\n",
              "      <td>Yes</td>\n",
              "      <td>WhatsApp</td>\n",
              "      <td>Training to start my own company</td>\n",
              "      <td>90691afb-ce95-11eb-a4c3-7c67a234f601</td>\n",
              "      <td>NaN</td>\n",
              "    </tr>\n",
              "    <tr>\n",
              "      <th>221</th>\n",
              "      <td>male</td>\n",
              "      <td>NaT</td>\n",
              "      <td>ht0443</td>\n",
              "      <td>2021-02-19</td>\n",
              "      <td>High School (16 years)</td>\n",
              "      <td>unknown</td>\n",
              "      <td>Yes</td>\n",
              "      <td>Yes</td>\n",
              "      <td>LinkedIn</td>\n",
              "      <td>Improving my data analysis skills</td>\n",
              "      <td>906a04c9-ce95-11eb-8f6a-7c67a234f601</td>\n",
              "      <td>NaN</td>\n",
              "    </tr>\n",
              "  </tbody>\n",
              "</table>\n",
              "</div>"
            ],
            "text/plain": [
              "     gender dob  ...                              quest_id age\n",
              "35     male NaT  ...  9060e347-ce95-11eb-abbb-7c67a234f601 NaN\n",
              "58     male NaT  ...  906241d5-ce95-11eb-9850-7c67a234f601 NaN\n",
              "116  female NaT  ...  9065822a-ce95-11eb-9df5-7c67a234f601 NaN\n",
              "154  female NaT  ...  9066fab1-ce95-11eb-a4e2-7c67a234f601 NaN\n",
              "194    male NaT  ...  90691afb-ce95-11eb-a4c3-7c67a234f601 NaN\n",
              "221    male NaT  ...  906a04c9-ce95-11eb-8f6a-7c67a234f601 NaN\n",
              "\n",
              "[6 rows x 12 columns]"
            ]
          },
          "metadata": {
            "tags": []
          },
          "execution_count": 10
        }
      ]
    },
    {
      "cell_type": "code",
      "metadata": {
        "id": "bq7sdg7oSiSo",
        "colab": {
          "base_uri": "https://localhost:8080/"
        },
        "outputId": "edaab64e-0bba-4ad9-cb7b-6fe1634c9d69"
      },
      "source": [
        "quest_db.info()"
      ],
      "execution_count": 11,
      "outputs": [
        {
          "output_type": "stream",
          "text": [
            "<class 'pandas.core.frame.DataFrame'>\n",
            "RangeIndex: 250 entries, 0 to 249\n",
            "Data columns (total 12 columns):\n",
            " #   Column              Non-Null Count  Dtype         \n",
            "---  ------              --------------  -----         \n",
            " 0   gender              250 non-null    object        \n",
            " 1   dob                 244 non-null    datetime64[ns]\n",
            " 2   commune             250 non-null    object        \n",
            " 3   application_date    250 non-null    datetime64[ns]\n",
            " 4   education_level     250 non-null    object        \n",
            " 5   formal_sector_job   250 non-null    object        \n",
            " 6   have_computer_home  250 non-null    object        \n",
            " 7   internet_at_home    250 non-null    object        \n",
            " 8   channels            250 non-null    object        \n",
            " 9   interest            250 non-null    object        \n",
            " 10  quest_id            250 non-null    object        \n",
            " 11  age                 244 non-null    float64       \n",
            "dtypes: datetime64[ns](2), float64(1), object(9)\n",
            "memory usage: 23.6+ KB\n"
          ],
          "name": "stdout"
        }
      ]
    },
    {
      "cell_type": "code",
      "metadata": {
        "id": "6KaeXOI6Qube"
      },
      "source": [
        "commune_db = commune.copy()\n",
        "commune_db[\"Commune_Id\"] = commune_db[\"Commune_Id\"].str.lower()\n",
        "commune_db.rename(columns = {\"Commune_Id\": \"commune\"}, inplace = True)"
      ],
      "execution_count": 12,
      "outputs": []
    },
    {
      "cell_type": "code",
      "metadata": {
        "id": "3MJQfqqQRD6o",
        "colab": {
          "base_uri": "https://localhost:8080/"
        },
        "outputId": "35fd6ef5-7f1a-4cd8-b6d5-c9a99d298d0b"
      },
      "source": [
        "commune.columns"
      ],
      "execution_count": 13,
      "outputs": [
        {
          "output_type": "execute_result",
          "data": {
            "text/plain": [
              "Index(['Commune_en', 'Commune_FR', 'Commune_Id', 'Departement', 'ADM1_PCODE'], dtype='object')"
            ]
          },
          "metadata": {
            "tags": []
          },
          "execution_count": 13
        }
      ]
    },
    {
      "cell_type": "code",
      "metadata": {
        "id": "xcweb58KRPMW"
      },
      "source": [
        "commune_db.drop([\"ADM1_PCODE\", \"Commune_FR\"], axis=1, inplace=True)"
      ],
      "execution_count": 14,
      "outputs": []
    },
    {
      "cell_type": "code",
      "metadata": {
        "id": "DrlWkz6ASjyx",
        "colab": {
          "base_uri": "https://localhost:8080/"
        },
        "outputId": "1364076f-450f-4531-926f-08bf50758db1"
      },
      "source": [
        "enroll.info()"
      ],
      "execution_count": 15,
      "outputs": [
        {
          "output_type": "stream",
          "text": [
            "<class 'pandas.core.frame.DataFrame'>\n",
            "RangeIndex: 148 entries, 0 to 147\n",
            "Data columns (total 15 columns):\n",
            " #   Column                Non-Null Count  Dtype  \n",
            "---  ------                --------------  -----  \n",
            " 0   Unnamed: 0            148 non-null    int64  \n",
            " 1   created_at            148 non-null    object \n",
            " 2   expiry_date           60 non-null     object \n",
            " 3   user_id               148 non-null    int64  \n",
            " 4   course_name           148 non-null    object \n",
            " 5   course_id             148 non-null    int64  \n",
            " 6   percentage_completed  148 non-null    float64\n",
            " 7   completed_at          0 non-null      float64\n",
            " 8   expired               148 non-null    bool   \n",
            " 9   is_free_trial         148 non-null    bool   \n",
            " 10  completed             148 non-null    bool   \n",
            " 11  started_at            135 non-null    object \n",
            " 12  activated_at          77 non-null     object \n",
            " 13  updated_at            148 non-null    object \n",
            " 14  quest_id              102 non-null    object \n",
            "dtypes: bool(3), float64(2), int64(3), object(7)\n",
            "memory usage: 14.4+ KB\n"
          ],
          "name": "stdout"
        }
      ]
    },
    {
      "cell_type": "code",
      "metadata": {
        "id": "QgFDnICrSkRG",
        "colab": {
          "base_uri": "https://localhost:8080/",
          "height": 35
        },
        "outputId": "9fcf06cd-9097-40b9-ff37-721d2dc2a53c"
      },
      "source": [
        "enroll_db = enroll.loc[:, [\"created_at\", \"quest_id\", \"user_id\"]]\n",
        "enroll_db[\"is_enroll\"] = \"yes\"\n",
        "enroll_db.rename(columns = {\"created_at\": \"enroll_date\"}, inplace = True)\n",
        "arrange_date(enroll_db, col=\"enroll_date\")"
      ],
      "execution_count": 16,
      "outputs": [
        {
          "output_type": "execute_result",
          "data": {
            "application/vnd.google.colaboratory.intrinsic+json": {
              "type": "string"
            },
            "text/plain": [
              "'enroll_date'"
            ]
          },
          "metadata": {
            "tags": []
          },
          "execution_count": 16
        }
      ]
    },
    {
      "cell_type": "code",
      "metadata": {
        "id": "qNje69jeWBri",
        "colab": {
          "base_uri": "https://localhost:8080/"
        },
        "outputId": "83e4d167-312b-48ad-c94e-ca60a87a77d9"
      },
      "source": [
        "enroll_db.columns"
      ],
      "execution_count": 17,
      "outputs": [
        {
          "output_type": "execute_result",
          "data": {
            "text/plain": [
              "Index(['enroll_date', 'quest_id', 'user_id', 'is_enroll'], dtype='object')"
            ]
          },
          "metadata": {
            "tags": []
          },
          "execution_count": 17
        }
      ]
    },
    {
      "cell_type": "code",
      "metadata": {
        "id": "Fv-Le0UNYDd8",
        "colab": {
          "base_uri": "https://localhost:8080/"
        },
        "outputId": "2ded1b0d-6fed-4408-d82b-814ad3eae730"
      },
      "source": [
        " enroll_db.info()"
      ],
      "execution_count": 18,
      "outputs": [
        {
          "output_type": "stream",
          "text": [
            "<class 'pandas.core.frame.DataFrame'>\n",
            "RangeIndex: 148 entries, 0 to 147\n",
            "Data columns (total 4 columns):\n",
            " #   Column       Non-Null Count  Dtype         \n",
            "---  ------       --------------  -----         \n",
            " 0   enroll_date  148 non-null    datetime64[ns]\n",
            " 1   quest_id     102 non-null    object        \n",
            " 2   user_id      148 non-null    int64         \n",
            " 3   is_enroll    148 non-null    object        \n",
            "dtypes: datetime64[ns](1), int64(1), object(2)\n",
            "memory usage: 4.8+ KB\n"
          ],
          "name": "stdout"
        }
      ]
    },
    {
      "cell_type": "code",
      "metadata": {
        "id": "pToCDawmMewy",
        "colab": {
          "base_uri": "https://localhost:8080/"
        },
        "outputId": "d3fa6708-57b0-48c7-e35d-de42b0244234"
      },
      "source": [
        "len(transaction)"
      ],
      "execution_count": 19,
      "outputs": [
        {
          "output_type": "execute_result",
          "data": {
            "text/plain": [
              "60"
            ]
          },
          "metadata": {
            "tags": []
          },
          "execution_count": 19
        }
      ]
    },
    {
      "cell_type": "code",
      "metadata": {
        "id": "Unt4TYE5MfID"
      },
      "source": [
        "ord_db = ord.loc[:, [\"created_at\", \"user_id\"]]\n",
        "transac_db = transaction.loc[:, [\"created_at\", \"user_id\"]]\n",
        "ord_db.rename(columns={\"created_at\": \"payment_date\"}, inplace=True)\n",
        "transac_db.rename(columns={\"created_at\": \"payment_date\"}, inplace=True)\n",
        "transac_db[\"payment_way\"] = \"MonCash\"\n",
        "ord_db[\"payment_way\"] = \"Credit card\"\n",
        "paid_data = pd.concat([transac_db, ord_db], axis=0)\n",
        "arrange_date(paid_data, \"payment_date\")\n",
        "paid_data[\"paid\"] = \"yes\""
      ],
      "execution_count": 20,
      "outputs": []
    },
    {
      "cell_type": "code",
      "metadata": {
        "id": "f7aStRz-QLW0",
        "colab": {
          "base_uri": "https://localhost:8080/",
          "height": 419
        },
        "outputId": "9660f3b3-94b0-409c-9a06-9d7759f7fed4"
      },
      "source": [
        "enroll_paid = pd.merge(left=enroll_db, right=paid_data, how=\"left\", on=\"user_id\")\n",
        "enroll_paid"
      ],
      "execution_count": 21,
      "outputs": [
        {
          "output_type": "execute_result",
          "data": {
            "text/html": [
              "<div>\n",
              "<style scoped>\n",
              "    .dataframe tbody tr th:only-of-type {\n",
              "        vertical-align: middle;\n",
              "    }\n",
              "\n",
              "    .dataframe tbody tr th {\n",
              "        vertical-align: top;\n",
              "    }\n",
              "\n",
              "    .dataframe thead th {\n",
              "        text-align: right;\n",
              "    }\n",
              "</style>\n",
              "<table border=\"1\" class=\"dataframe\">\n",
              "  <thead>\n",
              "    <tr style=\"text-align: right;\">\n",
              "      <th></th>\n",
              "      <th>enroll_date</th>\n",
              "      <th>quest_id</th>\n",
              "      <th>user_id</th>\n",
              "      <th>is_enroll</th>\n",
              "      <th>payment_date</th>\n",
              "      <th>payment_way</th>\n",
              "      <th>paid</th>\n",
              "    </tr>\n",
              "  </thead>\n",
              "  <tbody>\n",
              "    <tr>\n",
              "      <th>0</th>\n",
              "      <td>2020-12-12</td>\n",
              "      <td>NaN</td>\n",
              "      <td>29816173</td>\n",
              "      <td>yes</td>\n",
              "      <td>NaT</td>\n",
              "      <td>NaN</td>\n",
              "      <td>NaN</td>\n",
              "    </tr>\n",
              "    <tr>\n",
              "      <th>1</th>\n",
              "      <td>2020-12-13</td>\n",
              "      <td>NaN</td>\n",
              "      <td>35229766</td>\n",
              "      <td>yes</td>\n",
              "      <td>NaT</td>\n",
              "      <td>NaN</td>\n",
              "      <td>NaN</td>\n",
              "    </tr>\n",
              "    <tr>\n",
              "      <th>2</th>\n",
              "      <td>2020-12-15</td>\n",
              "      <td>NaN</td>\n",
              "      <td>31987560</td>\n",
              "      <td>yes</td>\n",
              "      <td>NaT</td>\n",
              "      <td>NaN</td>\n",
              "      <td>NaN</td>\n",
              "    </tr>\n",
              "    <tr>\n",
              "      <th>3</th>\n",
              "      <td>2020-12-18</td>\n",
              "      <td>NaN</td>\n",
              "      <td>35616451</td>\n",
              "      <td>yes</td>\n",
              "      <td>NaT</td>\n",
              "      <td>NaN</td>\n",
              "      <td>NaN</td>\n",
              "    </tr>\n",
              "    <tr>\n",
              "      <th>4</th>\n",
              "      <td>2020-12-21</td>\n",
              "      <td>NaN</td>\n",
              "      <td>35390649</td>\n",
              "      <td>yes</td>\n",
              "      <td>NaT</td>\n",
              "      <td>NaN</td>\n",
              "      <td>NaN</td>\n",
              "    </tr>\n",
              "    <tr>\n",
              "      <th>...</th>\n",
              "      <td>...</td>\n",
              "      <td>...</td>\n",
              "      <td>...</td>\n",
              "      <td>...</td>\n",
              "      <td>...</td>\n",
              "      <td>...</td>\n",
              "      <td>...</td>\n",
              "    </tr>\n",
              "    <tr>\n",
              "      <th>143</th>\n",
              "      <td>2021-03-14</td>\n",
              "      <td>906b65e3-ce95-11eb-a294-7c67a234f601</td>\n",
              "      <td>41508160</td>\n",
              "      <td>yes</td>\n",
              "      <td>2021-03-14</td>\n",
              "      <td>MonCash</td>\n",
              "      <td>yes</td>\n",
              "    </tr>\n",
              "    <tr>\n",
              "      <th>144</th>\n",
              "      <td>2021-03-14</td>\n",
              "      <td>906636cf-ce95-11eb-8679-7c67a234f601</td>\n",
              "      <td>41564742</td>\n",
              "      <td>yes</td>\n",
              "      <td>2021-03-14</td>\n",
              "      <td>Credit card</td>\n",
              "      <td>yes</td>\n",
              "    </tr>\n",
              "    <tr>\n",
              "      <th>145</th>\n",
              "      <td>2021-03-14</td>\n",
              "      <td>906241d5-ce95-11eb-9850-7c67a234f601</td>\n",
              "      <td>41569249</td>\n",
              "      <td>yes</td>\n",
              "      <td>2021-03-14</td>\n",
              "      <td>MonCash</td>\n",
              "      <td>yes</td>\n",
              "    </tr>\n",
              "    <tr>\n",
              "      <th>146</th>\n",
              "      <td>2021-03-14</td>\n",
              "      <td>906b3c86-ce95-11eb-b6a7-7c67a234f601</td>\n",
              "      <td>41587952</td>\n",
              "      <td>yes</td>\n",
              "      <td>2021-03-14</td>\n",
              "      <td>Credit card</td>\n",
              "      <td>yes</td>\n",
              "    </tr>\n",
              "    <tr>\n",
              "      <th>147</th>\n",
              "      <td>2021-03-14</td>\n",
              "      <td>NaN</td>\n",
              "      <td>41592698</td>\n",
              "      <td>yes</td>\n",
              "      <td>2021-03-14</td>\n",
              "      <td>MonCash</td>\n",
              "      <td>yes</td>\n",
              "    </tr>\n",
              "  </tbody>\n",
              "</table>\n",
              "<p>148 rows × 7 columns</p>\n",
              "</div>"
            ],
            "text/plain": [
              "    enroll_date                              quest_id  ...  payment_way paid\n",
              "0    2020-12-12                                   NaN  ...          NaN  NaN\n",
              "1    2020-12-13                                   NaN  ...          NaN  NaN\n",
              "2    2020-12-15                                   NaN  ...          NaN  NaN\n",
              "3    2020-12-18                                   NaN  ...          NaN  NaN\n",
              "4    2020-12-21                                   NaN  ...          NaN  NaN\n",
              "..          ...                                   ...  ...          ...  ...\n",
              "143  2021-03-14  906b65e3-ce95-11eb-a294-7c67a234f601  ...      MonCash  yes\n",
              "144  2021-03-14  906636cf-ce95-11eb-8679-7c67a234f601  ...  Credit card  yes\n",
              "145  2021-03-14  906241d5-ce95-11eb-9850-7c67a234f601  ...      MonCash  yes\n",
              "146  2021-03-14  906b3c86-ce95-11eb-b6a7-7c67a234f601  ...  Credit card  yes\n",
              "147  2021-03-14                                   NaN  ...      MonCash  yes\n",
              "\n",
              "[148 rows x 7 columns]"
            ]
          },
          "metadata": {
            "tags": []
          },
          "execution_count": 21
        }
      ]
    },
    {
      "cell_type": "code",
      "metadata": {
        "id": "CtwwogxxYD-U"
      },
      "source": [
        "def dummies_create(data, value):\n",
        "  x=pd.get_dummies(data=data, columns=value, prefix=\"\", prefix_sep=\"\")\n",
        "  y=x.groupby(\"quest_id\").sum()\n",
        "  return y\n",
        "studydomain_db = dummies_create(study_domain[[\"key\", \"quest_id\", \"values\"]], [\"values\"])\n",
        "technology_db = dummies_create(technology[[\"key\", \"quest_id\", \"values\"]], ['values'])\n",
        "industry_db = dummies_create(industry[[\"key\", \"quest_id\", \"values\"]], ['values'])\n",
        "studydomain_db.rename(columns={\"other\": \"Other domain\"}, inplace=True)\n",
        "technology_db.rename(columns={\"other\": \"Other Technology\"}, inplace=True)"
      ],
      "execution_count": 22,
      "outputs": []
    },
    {
      "cell_type": "code",
      "metadata": {
        "id": "ljK02zLLK36T"
      },
      "source": [
        "final_db = pd.merge(left=quest_db, right= commune_db, on=\"commune\", how=\"left\")\n",
        "final_db = pd.merge(left=final_db, right= enroll_paid, on=\"quest_id\", how=\"left\")\n",
        "final_db = pd.merge(left=final_db, right= studydomain_db, on=\"quest_id\", how=\"left\")\n",
        "final_db = pd.merge(left=final_db, right= technology_db, on=\"quest_id\", how=\"left\")"
      ],
      "execution_count": 23,
      "outputs": []
    },
    {
      "cell_type": "code",
      "metadata": {
        "id": "KNAWxOd5Gvp0",
        "colab": {
          "base_uri": "https://localhost:8080/"
        },
        "outputId": "9e31fd4c-ce81-4856-a07d-80af7e362bef"
      },
      "source": [
        "final_db.info()"
      ],
      "execution_count": 24,
      "outputs": [
        {
          "output_type": "stream",
          "text": [
            "<class 'pandas.core.frame.DataFrame'>\n",
            "Int64Index: 250 entries, 0 to 249\n",
            "Data columns (total 41 columns):\n",
            " #   Column                  Non-Null Count  Dtype         \n",
            "---  ------                  --------------  -----         \n",
            " 0   gender                  250 non-null    object        \n",
            " 1   dob                     244 non-null    datetime64[ns]\n",
            " 2   commune                 250 non-null    object        \n",
            " 3   application_date        250 non-null    datetime64[ns]\n",
            " 4   education_level         250 non-null    object        \n",
            " 5   formal_sector_job       250 non-null    object        \n",
            " 6   have_computer_home      250 non-null    object        \n",
            " 7   internet_at_home        250 non-null    object        \n",
            " 8   channels                250 non-null    object        \n",
            " 9   interest                250 non-null    object        \n",
            " 10  quest_id                250 non-null    object        \n",
            " 11  age                     244 non-null    float64       \n",
            " 12  Commune_en              250 non-null    object        \n",
            " 13  Departement             250 non-null    object        \n",
            " 14  enroll_date             102 non-null    datetime64[ns]\n",
            " 15  user_id                 102 non-null    float64       \n",
            " 16  is_enroll               102 non-null    object        \n",
            " 17  payment_date            65 non-null     datetime64[ns]\n",
            " 18  payment_way             65 non-null     object        \n",
            " 19  paid                    65 non-null     object        \n",
            " 20  Accounting              244 non-null    float64       \n",
            " 21  Computer Science        244 non-null    float64       \n",
            " 22  Economics               244 non-null    float64       \n",
            " 23  Electrical Engineering  244 non-null    float64       \n",
            " 24  Law                     244 non-null    float64       \n",
            " 25  Management              244 non-null    float64       \n",
            " 26  Medicine                244 non-null    float64       \n",
            " 27  Statistics              244 non-null    float64       \n",
            " 28  Other domain            244 non-null    float64       \n",
            " 29  Bash                    244 non-null    float64       \n",
            " 30  Excel                   244 non-null    float64       \n",
            " 31  Git                     244 non-null    float64       \n",
            " 32  Java                    244 non-null    float64       \n",
            " 33  JavaScript              244 non-null    float64       \n",
            " 34  PHP                     244 non-null    float64       \n",
            " 35  PowerBI or Tableau      244 non-null    float64       \n",
            " 36  Python                  244 non-null    float64       \n",
            " 37  R                       244 non-null    float64       \n",
            " 38  SQL                     244 non-null    float64       \n",
            " 39  VBA                     244 non-null    float64       \n",
            " 40  Other Technology        244 non-null    float64       \n",
            "dtypes: datetime64[ns](4), float64(23), object(14)\n",
            "memory usage: 82.0+ KB\n"
          ],
          "name": "stdout"
        }
      ]
    },
    {
      "cell_type": "code",
      "metadata": {
        "id": "7qIe2NsQis8o",
        "colab": {
          "base_uri": "https://localhost:8080/"
        },
        "outputId": "4d26f1fd-b8b3-4505-c19a-b53fc43e7d09"
      },
      "source": [
        "print(final_db.payment_way.dtype)"
      ],
      "execution_count": 25,
      "outputs": [
        {
          "output_type": "stream",
          "text": [
            "object\n"
          ],
          "name": "stdout"
        }
      ]
    },
    {
      "cell_type": "code",
      "metadata": {
        "id": "L3hR3hUkHFAE"
      },
      "source": [
        "final_db.drop([\"dob\", \"commune\", \"user_id\"], axis=1, inplace=True)"
      ],
      "execution_count": 26,
      "outputs": []
    },
    {
      "cell_type": "code",
      "metadata": {
        "id": "H8ouYgKyb1cx"
      },
      "source": [
        "def replace_na(data=final_db, col=\"\", text=\"no\"):\n",
        "  final_db[col].fillna(text, inplace=True)"
      ],
      "execution_count": 27,
      "outputs": []
    },
    {
      "cell_type": "code",
      "metadata": {
        "id": "iiA5mB9jhdVJ"
      },
      "source": [
        "replace_na(col=\"is_enroll\")\n",
        "replace_na(col=\"paid\")\n",
        "replace_na(col=\"payment_way\", text=\"Don't pay\")"
      ],
      "execution_count": 28,
      "outputs": []
    },
    {
      "cell_type": "code",
      "metadata": {
        "id": "CtcUwnd2ZIAC",
        "colab": {
          "base_uri": "https://localhost:8080/"
        },
        "outputId": "ceacbd44-c6e8-4a3d-9b72-0b10a67c8fc4"
      },
      "source": [
        "for col in final_db.columns:\n",
        "  if final_db[col].dtype == \"object\":\n",
        "    tab = final_db[col].value_counts(ascending=False)\n",
        "    print(f\"The table for the {col} column is:\")\n",
        "    print(f\"{tab} \\n\\n\")"
      ],
      "execution_count": 29,
      "outputs": [
        {
          "output_type": "stream",
          "text": [
            "The table for the gender column is:\n",
            "male      203\n",
            "female     47\n",
            "Name: gender, dtype: int64 \n",
            "\n",
            "\n",
            "The table for the education_level column is:\n",
            "Bachelors (bacc +4)        148\n",
            "Other                       51\n",
            "High School (16 years)      33\n",
            "Masters                     14\n",
            "unknown                      3\n",
            "Doctorate (PhD, MD, JD)      1\n",
            "Name: education_level, dtype: int64 \n",
            "\n",
            "\n",
            "The table for the formal_sector_job column is:\n",
            "unknown    184\n",
            "Yes         60\n",
            "No           6\n",
            "Name: formal_sector_job, dtype: int64 \n",
            "\n",
            "\n",
            "The table for the have_computer_home column is:\n",
            "Yes        234\n",
            "No          15\n",
            "unknown      1\n",
            "Name: have_computer_home, dtype: int64 \n",
            "\n",
            "\n",
            "The table for the internet_at_home column is:\n",
            "Yes        210\n",
            "No          38\n",
            "unknown      2\n",
            "Name: internet_at_home, dtype: int64 \n",
            "\n",
            "\n",
            "The table for the channels column is:\n",
            "Friend                     67\n",
            "WhatsApp                   66\n",
            "Facebook                   40\n",
            "ESIH                       18\n",
            "Ayiti Analytics Website    15\n",
            "LinkedIn                   15\n",
            "Bootcamp Alumni            14\n",
            "other                       9\n",
            "Instagram                   5\n",
            "unknown                     1\n",
            "Name: channels, dtype: int64 \n",
            "\n",
            "\n",
            "The table for the interest column is:\n",
            "Improving my data analysis skills    130\n",
            "Finding a job/internship              43\n",
            "Training to start my own company      39\n",
            "Switching careers                     20\n",
            "Mentorship                            13\n",
            "other                                  3\n",
            "unknown                                2\n",
            "Name: interest, dtype: int64 \n",
            "\n",
            "\n",
            "The table for the quest_id column is:\n",
            "9067957b-ce95-11eb-a3f9-7c67a234f601    1\n",
            "9066abb8-ce95-11eb-b61d-7c67a234f601    1\n",
            "9064ff28-ce95-11eb-857f-7c67a234f601    1\n",
            "90617f12-ce95-11eb-a3c8-7c67a234f601    1\n",
            "9063ee78-ce95-11eb-a8d6-7c67a234f601    1\n",
            "                                       ..\n",
            "9063ee77-ce95-11eb-9098-7c67a234f601    1\n",
            "9069ddd7-ce95-11eb-859c-7c67a234f601    1\n",
            "9061d753-ce95-11eb-967a-7c67a234f601    1\n",
            "905f0fbd-ce95-11eb-b153-7c67a234f601    1\n",
            "905ddcf2-ce95-11eb-9a92-7c67a234f601    1\n",
            "Name: quest_id, Length: 250, dtype: int64 \n",
            "\n",
            "\n",
            "The table for the Commune_en column is:\n",
            "Delmas                            71\n",
            "Port-au-Prince                    59\n",
            "Petion-Ville                      29\n",
            "Carrefour                         23\n",
            "Tabarre                           11\n",
            "Croix-Des-Bouquets                10\n",
            "Cap-Haitien                        5\n",
            "Saint-Marc                         4\n",
            "Jacmel                             3\n",
            "Mirebalais                         3\n",
            "Ouanaminthe                        3\n",
            "Cite Soleil                        3\n",
            "Verrettes                          3\n",
            "Leogane                            2\n",
            "Petit-Goave                        1\n",
            "Les Cayes                          1\n",
            "Petite Riviere de Nippes           1\n",
            "Aquin                              1\n",
            "Saint-Louis du Nord                1\n",
            "Gressier                           1\n",
            "Mombin Crochu                      1\n",
            "Gros Morne                         1\n",
            "Dondon                             1\n",
            "Sainte Suzanne                     1\n",
            "Ganthier                           1\n",
            "Kenscoff                           1\n",
            "Hinche                             1\n",
            "Ferrier                            1\n",
            "Caracol                            1\n",
            "Port-Salut                         1\n",
            "Plaine du Nord                     1\n",
            "Petite Riviere de l'Artibonite     1\n",
            "Limonade                           1\n",
            "Grand-Goave                        1\n",
            "Cornillon / Grand Bois             1\n",
            "Name: Commune_en, dtype: int64 \n",
            "\n",
            "\n",
            "The table for the Departement column is:\n",
            "West          214\n",
            "Artibonite      9\n",
            "North           8\n",
            "North-East      7\n",
            "Centre          4\n",
            "South-East      3\n",
            "South           3\n",
            "North-West      1\n",
            "Nippes          1\n",
            "Name: Departement, dtype: int64 \n",
            "\n",
            "\n",
            "The table for the is_enroll column is:\n",
            "no     148\n",
            "yes    102\n",
            "Name: is_enroll, dtype: int64 \n",
            "\n",
            "\n",
            "The table for the payment_way column is:\n",
            "Don't pay      185\n",
            "MonCash         51\n",
            "Credit card     14\n",
            "Name: payment_way, dtype: int64 \n",
            "\n",
            "\n",
            "The table for the paid column is:\n",
            "no     185\n",
            "yes     65\n",
            "Name: paid, dtype: int64 \n",
            "\n",
            "\n"
          ],
          "name": "stdout"
        }
      ]
    },
    {
      "cell_type": "markdown",
      "metadata": {
        "id": "O66p2y_rj6lm"
      },
      "source": [
        "Age cleaning regarding the below questions"
      ]
    },
    {
      "cell_type": "code",
      "metadata": {
        "id": "8HCFgcSXkDIr",
        "colab": {
          "base_uri": "https://localhost:8080/"
        },
        "outputId": "1bbc6f70-2288-462e-9b37-88fb80490451"
      },
      "source": [
        " final_db[final_db.age.isnull()].shape[0] #number of NaN values for age"
      ],
      "execution_count": 30,
      "outputs": [
        {
          "output_type": "execute_result",
          "data": {
            "text/plain": [
              "6"
            ]
          },
          "metadata": {
            "tags": []
          },
          "execution_count": 30
        }
      ]
    },
    {
      "cell_type": "code",
      "metadata": {
        "id": "jqPpXZJ7l4_M",
        "colab": {
          "base_uri": "https://localhost:8080/"
        },
        "outputId": "b1a3d4ee-a429-4e7a-f5cd-2ddaabb76413"
      },
      "source": [
        "final_db[final_db[\"age\"]<2].shape[0]  #number of ages inferior to 2, so invalid ages"
      ],
      "execution_count": 31,
      "outputs": [
        {
          "output_type": "execute_result",
          "data": {
            "text/plain": [
              "7"
            ]
          },
          "metadata": {
            "tags": []
          },
          "execution_count": 31
        }
      ]
    },
    {
      "cell_type": "markdown",
      "metadata": {
        "id": "HOu_yeFzAub6"
      },
      "source": [
        "###  1. How many observations and variables are there in the dataset\n",
        " "
      ]
    },
    {
      "cell_type": "code",
      "metadata": {
        "id": "30cupeNNAub8",
        "colab": {
          "base_uri": "https://localhost:8080/"
        },
        "outputId": "92c3525a-9c7e-485f-9a1a-50a43cf9f434"
      },
      "source": [
        "# here your codes\n",
        "print(f\"The final dataset has {final_db.shape[0]} observations \\nand {final_db.shape[1]} variables.\")"
      ],
      "execution_count": 32,
      "outputs": [
        {
          "output_type": "stream",
          "text": [
            "The final dataset has 250 observations \n",
            "and 38 variables.\n"
          ],
          "name": "stdout"
        }
      ]
    },
    {
      "cell_type": "markdown",
      "metadata": {
        "id": "HLDLxbXCAub9"
      },
      "source": [
        "### 2.A Calculate the average age of the observations\n",
        "   * On the whole dataset\n",
        "   * On the whole male dataset\n",
        "   * On all the female dataset\n",
        "### 2.B Calculate \n",
        "   * variance of the whole datatset,male and female\n",
        "   * kurtosis of the whole datatset,male and female\n",
        "   * skewness of the whole datatset,male and female\n",
        "### 2.C Does the age distribution follow a normal distribution \n",
        "   "
      ]
    },
    {
      "cell_type": "code",
      "metadata": {
        "id": "quREF6ctAub-",
        "colab": {
          "base_uri": "https://localhost:8080/"
        },
        "outputId": "f81dc5db-cc6f-4cdd-ed14-bdb5d76e0159"
      },
      "source": [
        "# here your codes\n",
        "a = final_db[final_db[\"age\"].isnull()].shape[0]\n",
        "b = final_db[final_db[\"age\"]<2].shape[0]\n",
        "print(f\"The age variable contains {a} NaN values and {b} values smaller than two, impossible.\\nThey are considered as invalid values for age.\")\n",
        "print(f\"These {b} values smaller than 2 have to be replaced by NaN \\nto prevent them from influence the mean.\")"
      ],
      "execution_count": 33,
      "outputs": [
        {
          "output_type": "stream",
          "text": [
            "The age variable contains 6 NaN values and 7 values smaller than two, impossible.\n",
            "They are considered as invalid values for age.\n",
            "These 7 values smaller than 2 have to be replaced by NaN \n",
            "to prevent them from influence the mean.\n"
          ],
          "name": "stdout"
        }
      ]
    },
    {
      "cell_type": "code",
      "metadata": {
        "id": "pcDhyOmbpRYW"
      },
      "source": [
        "final_db[\"age\"].replace({-1: np.nan, 0: np.nan, 1:np.nan}, inplace=True)   #we replace these values as nan."
      ],
      "execution_count": 34,
      "outputs": []
    },
    {
      "cell_type": "code",
      "metadata": {
        "id": "9X-5wqIkrXDL",
        "colab": {
          "base_uri": "https://localhost:8080/"
        },
        "outputId": "2b825089-1fae-4783-cf84-277df784b60f"
      },
      "source": [
        "age_mean = final_db.age.mean()\n",
        "final_db[\"age\"].replace({np.nan: age_mean}, inplace=True)\n",
        "male = final_db[final_db[\"gender\"]==\"male\"]\n",
        "female = final_db[final_db[\"gender\"]==\"female\"]\n",
        "age_male_mean = male.age.mean()\n",
        "age_fmale_mean = female.age.mean()\n",
        "print(f\"For the whole dataset, the age mean is {round(age_mean, 2)} years.\")\n",
        "print(f\"For the whole male dataset, the age mean is {round(age_male_mean, 2)} years.\")\n",
        "print(f\"For the whole female dataset, the age mean is {round(age_fmale_mean, 2)} years.\")"
      ],
      "execution_count": 35,
      "outputs": [
        {
          "output_type": "stream",
          "text": [
            "For the whole dataset, the age mean is 27.28 years.\n",
            "For the whole male dataset, the age mean is 27.51 years.\n",
            "For the whole female dataset, the age mean is 26.32 years.\n"
          ],
          "name": "stdout"
        }
      ]
    },
    {
      "cell_type": "code",
      "metadata": {
        "id": "FGVCALRatzKi"
      },
      "source": [
        "final_db[\"age\"].replace({np.nan: age_mean}, inplace=True)"
      ],
      "execution_count": 36,
      "outputs": []
    },
    {
      "cell_type": "code",
      "metadata": {
        "id": "_vrzu8dmvVci"
      },
      "source": [
        "def form_param(data=final_db, col=\"age\", text=\"\"):\n",
        "  var1 = data[col].var()\n",
        "  st_dev = data[col].std()\n",
        "  kurtosis_coef = kurtosis(data[col], fisher = False)\n",
        "  skewness = skew(data[col])\n",
        "  fig, ax = plt.subplots(figsize = (10,5))\n",
        "  data[col].plot(kind = \"hist\", density = True, alpha = 0.65, bins = 15)\n",
        "  data[col].plot(kind = \"kde\")\n",
        "  ax.set_title(\"2021 Bootcamp applicants ages\", size = 17, pad = 10)\n",
        "  print(text)\n",
        "  print(f\"The variance is : {round(var1,2)}\")\n",
        "  print(f\"The standard deviation is : {round(st_dev,2)}\")\n",
        "  print(f\"The kurtosis coef is : {round(kurtosis_coef,2)}\")\n",
        "  print(f\"The skewness coef is : {round(skewness,2)}\")\n",
        "  plt.show()"
      ],
      "execution_count": 37,
      "outputs": []
    },
    {
      "cell_type": "code",
      "metadata": {
        "id": "cjO6u1gm7bYK",
        "colab": {
          "base_uri": "https://localhost:8080/",
          "height": 429
        },
        "outputId": "b23fa91f-6d68-417d-b543-b4c47a77f45a"
      },
      "source": [
        "form_param(text=\"For the whole dataset\")"
      ],
      "execution_count": 38,
      "outputs": [
        {
          "output_type": "stream",
          "text": [
            "For the whole dataset\n",
            "The variance is : 29.67\n",
            "The standard deviation is : 5.45\n",
            "The kurtosis coef is : 5.54\n",
            "The skewness coef is : 1.45\n"
          ],
          "name": "stdout"
        },
        {
          "output_type": "display_data",
          "data": {
            "image/png": "[encoded data removed]",
            "text/plain": [
              "<Figure size 720x360 with 1 Axes>"
            ]
          },
          "metadata": {
            "tags": [],
            "needs_background": "light"
          }
        }
      ]
    },
    {
      "cell_type": "markdown",
      "metadata": {
        "id": "arooblZkOjuF"
      },
      "source": [
        ""
      ]
    },
    {
      "cell_type": "markdown",
      "metadata": {
        "id": "xRU7S2q1OkQi"
      },
      "source": [
        ""
      ]
    },
    {
      "cell_type": "code",
      "metadata": {
        "id": "WTVwSHlPzj8q",
        "colab": {
          "base_uri": "https://localhost:8080/",
          "height": 429
        },
        "outputId": "7b97bd82-784f-45b3-8f2a-5c8abcc3b926"
      },
      "source": [
        "form_param(data = male, text=\"For the whole male dataset\")"
      ],
      "execution_count": 39,
      "outputs": [
        {
          "output_type": "stream",
          "text": [
            "For the whole male dataset\n",
            "The variance is : 30.09\n",
            "The standard deviation is : 5.49\n",
            "The kurtosis coef is : 5.38\n",
            "The skewness coef is : 1.39\n"
          ],
          "name": "stdout"
        },
        {
          "output_type": "display_data",
          "data": {
            "image/png": "[encoded data removed]",
            "text/plain": [
              "<Figure size 720x360 with 1 Axes>"
            ]
          },
          "metadata": {
            "tags": [],
            "needs_background": "light"
          }
        }
      ]
    },
    {
      "cell_type": "code",
      "metadata": {
        "id": "gCyT_dwRz4hN",
        "colab": {
          "base_uri": "https://localhost:8080/",
          "height": 429
        },
        "outputId": "918b6b33-d6d2-4a77-9655-5c03ee4c76be"
      },
      "source": [
        "form_param(data = female, text=\"For the whole female dataset\")"
      ],
      "execution_count": 40,
      "outputs": [
        {
          "output_type": "stream",
          "text": [
            "For the whole female dataset\n",
            "The variance is : 27.3\n",
            "The standard deviation is : 5.22\n",
            "The kurtosis coef is : 6.72\n",
            "The skewness coef is : 1.82\n"
          ],
          "name": "stdout"
        },
        {
          "output_type": "display_data",
          "data": {
            "image/png": "[encoded data removed]",
            "text/plain": [
              "<Figure size 720x360 with 1 Axes>"
            ]
          },
          "metadata": {
            "tags": [],
            "needs_background": "light"
          }
        }
      ]
    },
    {
      "cell_type": "code",
      "metadata": {
        "id": "sn8pjRprCyWd",
        "colab": {
          "base_uri": "https://localhost:8080/"
        },
        "outputId": "f111f74c-ba60-4c06-bd2c-9dd40d4d847f"
      },
      "source": [
        "rng = np.random.default_rng()\n",
        "x = final_db.age\n",
        "shapiro_test = shapiro(x)\n",
        "shapiro_test\n",
        "#perform Jarque-Bera test\n",
        "res = jarque_bera(x)\n",
        "if res[1]>0:\n",
        "  print(f\"Since this p-value = {res[1]} is not less than .05, we fail to reject the null hypothesis. \\nWe don’t have sufficient evidence to say that this data has skewness and kurtosis that is \\nsignificantly different from a normal distribution.\")\n",
        "else: \n",
        "  print(f\"Since this p-value = {res[1]}, is less than .05, we reject the null hypothesis. Thus, \\nwe have sufficient evidence to say that this data has skewness and kurtosis that is \\nsignificantly different from a normal distribution.\")"
      ],
      "execution_count": 83,
      "outputs": [
        {
          "output_type": "stream",
          "text": [
            "Since this p-value = 0.0, is less than .05, we reject the null hypothesis. Thus, \n",
            "we have sufficient evidence to say that this data has skewness and kurtosis that is \n",
            "significantly different from a normal distribution.\n"
          ],
          "name": "stdout"
        }
      ]
    },
    {
      "cell_type": "markdown",
      "metadata": {
        "id": "6FqLEiA6Aub_"
      },
      "source": [
        "### 3.Display the age frequency disbrution\n",
        "   * On the whole dataset\n",
        "   * On the whole male dataset\n",
        "   * On all the female dataset"
      ]
    },
    {
      "cell_type": "code",
      "metadata": {
        "id": "23eH6N4881S1"
      },
      "source": [
        "#here your codes\n",
        "#graphics in 2"
      ],
      "execution_count": 42,
      "outputs": []
    },
    {
      "cell_type": "markdown",
      "metadata": {
        "id": "JsrLTNuCAucB"
      },
      "source": [
        "### 4. Can we say that the average age (24 years old) of the observations can be considered as the average age of the population likely to participate in this bootcamp. Justify your answer"
      ]
    },
    {
      "cell_type": "code",
      "metadata": {
        "id": "IWNAYR1AAucC",
        "colab": {
          "base_uri": "https://localhost:8080/"
        },
        "outputId": "4ff47fa6-8ed3-46e3-9a68-cdfb2ee0db60"
      },
      "source": [
        "#here your codes\n",
        "# H0 : Mu = 24\n",
        "# H1 : Mu != 24\n",
        "stat, p = ttest_1samp(final_db.age.dropna(), popmean=24) #alternative=\"two-sided\")\n",
        "print('Statistics=%.2f, p=%.2f' % (stat, p))\n",
        "# interpretation\n",
        "alpha = 0.05\n",
        "if p > alpha:\n",
        "    print('ho mu=24 (fail to reject H0)')\n",
        "else:\n",
        "    print('h1 mu!= 24 (reject H0)')"
      ],
      "execution_count": 79,
      "outputs": [
        {
          "output_type": "stream",
          "text": [
            "Statistics=9.53, p=0.00\n",
            "h1 mu!= 24 (reject H0)\n"
          ],
          "name": "stdout"
        }
      ]
    },
    {
      "cell_type": "markdown",
      "metadata": {
        "id": "dEn27594AucD"
      },
      "source": [
        "### 5. Calculate the average age of participants for each communication channel"
      ]
    },
    {
      "cell_type": "code",
      "metadata": {
        "id": "GzPCeEaDAucE",
        "colab": {
          "base_uri": "https://localhost:8080/"
        },
        "outputId": "f7f9530f-25f3-42aa-8706-7e4e32da24b6"
      },
      "source": [
        "#here your codes\n",
        "chanels_mean_age = pd.pivot_table(data=final_db, index= \"channels\", values='age', aggfunc='mean')\n",
        "chanels_mean_age.age.round(2)"
      ],
      "execution_count": 94,
      "outputs": [
        {
          "output_type": "execute_result",
          "data": {
            "text/plain": [
              "channels\n",
              "Ayiti Analytics Website    27.00\n",
              "Bootcamp Alumni            26.29\n",
              "ESIH                       25.14\n",
              "Facebook                   27.50\n",
              "Friend                     27.01\n",
              "Instagram                  24.60\n",
              "LinkedIn                   30.02\n",
              "WhatsApp                   27.79\n",
              "other                      28.44\n",
              "unknown                    22.00\n",
              "Name: age, dtype: float64"
            ]
          },
          "metadata": {
            "tags": []
          },
          "execution_count": 94
        }
      ]
    },
    {
      "cell_type": "markdown",
      "metadata": {
        "id": "Z2XWthzoAucE"
      },
      "source": [
        "### 6. Display an age boxplot for each communication channel"
      ]
    },
    {
      "cell_type": "code",
      "metadata": {
        "id": "TWLvNrt0AucF",
        "colab": {
          "base_uri": "https://localhost:8080/",
          "height": 626
        },
        "outputId": "56b5d507-9623-4a6a-b14b-cd4f6b77997a"
      },
      "source": [
        "#here your codes\n",
        "plt.figure(figsize=(15,10))\n",
        "sns.boxplot( x=final_db[\"channels\"], y=final_db[\"age\"]);\n",
        "plt.title(\"Age distribution by communication channel\")\n",
        "plt.show()"
      ],
      "execution_count": 45,
      "outputs": [
        {
          "output_type": "display_data",
          "data": {
            "image/png": "[encoded data removed]",
            "text/plain": [
              "<Figure size 1080x720 with 1 Axes>"
            ]
          },
          "metadata": {
            "tags": [],
            "needs_background": "light"
          }
        }
      ]
    },
    {
      "cell_type": "markdown",
      "metadata": {
        "id": "ZY9bmZzUAucG"
      },
      "source": [
        "### 7 .Is there a significant age difference between these groups"
      ]
    },
    {
      "cell_type": "markdown",
      "metadata": {
        "id": "0i8wHdn8y99j"
      },
      "source": [
        "A one-way ANOVA uses the following null and alternative hypotheses:\n",
        "\n",
        "H0 (null hypothesis): μ1 = μ2 = μ3 = … = μk (all the population means are equal)\n",
        "\n",
        "H1 (Alternative hypothesis): at least one population mean is different from the rest"
      ]
    },
    {
      "cell_type": "code",
      "metadata": {
        "id": "3_BXDsXmAucI"
      },
      "source": [
        "#here your codes\n",
        "data1 = final_db[final_db[\"channels\"]==\"Ayiti Analytics Website\"].age\n",
        "data2 = final_db[final_db[\"channels\"]==\"Friend\"].age\n",
        "data3 = final_db[final_db[\"channels\"]==\"Facebook\"].age\n",
        "data4 = final_db[final_db[\"channels\"]==\"ESIH\"].age\n",
        "data5 = final_db[final_db[\"channels\"]==\"LinkedIn\"].age\n",
        "data6 = final_db[final_db[\"channels\"]==\"Instagram\"].age\n",
        "data7 = final_db[final_db[\"channels\"]==\"WhatsApp\"].age\n",
        "data8 = final_db[final_db[\"channels\"]==\"Bootcamp Alumni\"].age\n",
        "data9 = final_db[final_db[\"channels\"]==\"other\"].age"
      ],
      "execution_count": 46,
      "outputs": []
    },
    {
      "cell_type": "code",
      "metadata": {
        "colab": {
          "base_uri": "https://localhost:8080/"
        },
        "id": "tlGIzD3Vz6zo",
        "outputId": "961e02ec-ab47-41d6-c3f1-90972e89ecfd"
      },
      "source": [
        "test_result = f_oneway(data1, data2, data3, data4, data5, data6, data7, data8, data9)\n",
        "if test_result.pvalue>0.05:\n",
        "  print(f\"Since the p-value = {round(test_result.pvalue,3)} is not less than .05, \\nwe fail to reject the null hypothesis. This means we do not have sufficient \\nevidence to say that there is a difference mean age among channels. HO\")\n",
        "else:\n",
        "  print(f\"Since the p-value = {round(test_result.pvalue,3)} is less than .05, we cannot accept the null hypothesis. This means we do not have sufficient evidence to say that there is a difference in exam scores among the three studying techniques. H1\")"
      ],
      "execution_count": 86,
      "outputs": [
        {
          "output_type": "stream",
          "text": [
            "Since the p-value = 0.302 is not less than .05, \n",
            "we fail to reject the null hypothesis. This means we do not have sufficient \n",
            "evidence to say that there is a difference mean age among channels. HO\n"
          ],
          "name": "stdout"
        }
      ]
    },
    {
      "cell_type": "markdown",
      "metadata": {
        "id": "BGQiGAsuAucJ"
      },
      "source": [
        "### 8.Plan a BA strategy for each communication channel regarding the age group"
      ]
    },
    {
      "cell_type": "code",
      "metadata": {
        "id": "qR2RPqYDAucK"
      },
      "source": [
        "#here your codes"
      ],
      "execution_count": 48,
      "outputs": []
    },
    {
      "cell_type": "markdown",
      "metadata": {
        "id": "5XhO75Q5AucK"
      },
      "source": [
        "### 9.According to the observations what is the probability of being in each channel of communication knowing your are a woman"
      ]
    },
    {
      "cell_type": "code",
      "metadata": {
        "id": "zZYMfMWgAucL",
        "colab": {
          "base_uri": "https://localhost:8080/"
        },
        "outputId": "fa26f307-760b-4c4a-b557-4ff2df5bb47e"
      },
      "source": [
        "#here your codes\n",
        "def proba_col1_knowing_col2(data=final_db, col1=\"channels\", col2=\"gender\", col2_modalitie=\"\", normalize=\"index\" ):\n",
        "  tab_proba = pd.crosstab(final_db[col2], final_db[col1], normalize=\"index\")\n",
        "  print(f\"Probability of {col1} knowing {col2} = {col2_modalitie}: \")\n",
        "  if col2_modalitie in tab_proba.index:\n",
        "    for col in tab_proba.columns:\n",
        "      print(f\"The probability of {col} as {col1} knowing {col2_modalitie} is : {round(tab_proba.at[col2_modalitie,col],4)}\")\n",
        "  else:\n",
        "    for col in tab_proba.index:\n",
        "      print(f\"The probability of {col1} as {col2_modalitie} knowing {col} is : {round(tab_proba.at[col,col2_modalitie],4)}\")\n",
        "proba_col1_knowing_col2(col2_modalitie=\"female\")"
      ],
      "execution_count": 49,
      "outputs": [
        {
          "output_type": "stream",
          "text": [
            "Probability of channels knowing gender = female: \n",
            "The probability of Ayiti Analytics Website as channels knowing female is : 0.0851\n",
            "The probability of Bootcamp Alumni as channels knowing female is : 0.1702\n",
            "The probability of ESIH as channels knowing female is : 0.1064\n",
            "The probability of Facebook as channels knowing female is : 0.1277\n",
            "The probability of Friend as channels knowing female is : 0.234\n",
            "The probability of Instagram as channels knowing female is : 0.0213\n",
            "The probability of LinkedIn as channels knowing female is : 0.0213\n",
            "The probability of WhatsApp as channels knowing female is : 0.1915\n",
            "The probability of other as channels knowing female is : 0.0426\n",
            "The probability of unknown as channels knowing female is : 0.0\n"
          ],
          "name": "stdout"
        }
      ]
    },
    {
      "cell_type": "markdown",
      "metadata": {
        "id": "0WE801YqAucM"
      },
      "source": [
        "### 10.According to the observations what is the probability of being in each channel of communication knowing your are a man"
      ]
    },
    {
      "cell_type": "code",
      "metadata": {
        "id": "OKQdvvkqAucN",
        "colab": {
          "base_uri": "https://localhost:8080/"
        },
        "outputId": "a359ed6a-ee7c-4c9e-ff83-35b796f9062e"
      },
      "source": [
        "#here your codes\n",
        "proba_col1_knowing_col2(col2_modalitie=\"male\")"
      ],
      "execution_count": 50,
      "outputs": [
        {
          "output_type": "stream",
          "text": [
            "Probability of channels knowing gender = male: \n",
            "The probability of Ayiti Analytics Website as channels knowing male is : 0.0542\n",
            "The probability of Bootcamp Alumni as channels knowing male is : 0.0296\n",
            "The probability of ESIH as channels knowing male is : 0.064\n",
            "The probability of Facebook as channels knowing male is : 0.1675\n",
            "The probability of Friend as channels knowing male is : 0.2759\n",
            "The probability of Instagram as channels knowing male is : 0.0197\n",
            "The probability of LinkedIn as channels knowing male is : 0.069\n",
            "The probability of WhatsApp as channels knowing male is : 0.2808\n",
            "The probability of other as channels knowing male is : 0.0345\n",
            "The probability of unknown as channels knowing male is : 0.0049\n"
          ],
          "name": "stdout"
        }
      ]
    },
    {
      "cell_type": "markdown",
      "metadata": {
        "id": "kNYz4GcqAucO"
      },
      "source": [
        "### 11. Deduce the probability of being a woman knowing each communication channel"
      ]
    },
    {
      "cell_type": "code",
      "metadata": {
        "id": "Yq_9K-gKAucS",
        "colab": {
          "base_uri": "https://localhost:8080/"
        },
        "outputId": "87607fad-eb99-4d89-d19e-3202c6981b06"
      },
      "source": [
        "#here your codes\n",
        "proba_col1_knowing_col2(data=final_db, col1=\"gender\", col2=\"channels\", col2_modalitie=\"female\", normalize=\"index\")"
      ],
      "execution_count": 51,
      "outputs": [
        {
          "output_type": "stream",
          "text": [
            "Probability of gender knowing channels = female: \n",
            "The probability of gender as female knowing Ayiti Analytics Website is : 0.2667\n",
            "The probability of gender as female knowing Bootcamp Alumni is : 0.5714\n",
            "The probability of gender as female knowing ESIH is : 0.2778\n",
            "The probability of gender as female knowing Facebook is : 0.15\n",
            "The probability of gender as female knowing Friend is : 0.1642\n",
            "The probability of gender as female knowing Instagram is : 0.2\n",
            "The probability of gender as female knowing LinkedIn is : 0.0667\n",
            "The probability of gender as female knowing WhatsApp is : 0.1364\n",
            "The probability of gender as female knowing other is : 0.2222\n",
            "The probability of gender as female knowing unknown is : 0.0\n"
          ],
          "name": "stdout"
        }
      ]
    },
    {
      "cell_type": "markdown",
      "metadata": {
        "id": "UhtOxunTAucT"
      },
      "source": [
        "### 13. Deduce the probability of being a woman knowing each communication channel"
      ]
    },
    {
      "cell_type": "code",
      "metadata": {
        "id": "DGgiJe1CAucT",
        "colab": {
          "base_uri": "https://localhost:8080/"
        },
        "outputId": "c2df7db1-0c75-4778-c585-5a213539f23e"
      },
      "source": [
        "# here your codes\n",
        "proba_col1_knowing_col2(data=final_db, col1=\"gender\", col2=\"channels\", col2_modalitie=\"female\", normalize=\"index\")"
      ],
      "execution_count": 52,
      "outputs": [
        {
          "output_type": "stream",
          "text": [
            "Probability of gender knowing channels = female: \n",
            "The probability of gender as female knowing Ayiti Analytics Website is : 0.2667\n",
            "The probability of gender as female knowing Bootcamp Alumni is : 0.5714\n",
            "The probability of gender as female knowing ESIH is : 0.2778\n",
            "The probability of gender as female knowing Facebook is : 0.15\n",
            "The probability of gender as female knowing Friend is : 0.1642\n",
            "The probability of gender as female knowing Instagram is : 0.2\n",
            "The probability of gender as female knowing LinkedIn is : 0.0667\n",
            "The probability of gender as female knowing WhatsApp is : 0.1364\n",
            "The probability of gender as female knowing other is : 0.2222\n",
            "The probability of gender as female knowing unknown is : 0.0\n"
          ],
          "name": "stdout"
        }
      ]
    },
    {
      "cell_type": "markdown",
      "metadata": {
        "id": "37qpnV8FAucU"
      },
      "source": [
        "### 14. Deduce the probability of being a man knowing each communication channel"
      ]
    },
    {
      "cell_type": "code",
      "metadata": {
        "id": "vBr1bRfgAucU",
        "colab": {
          "base_uri": "https://localhost:8080/"
        },
        "outputId": "06f0c00d-332b-4e4c-ea7b-3e959ce8a3a6"
      },
      "source": [
        "#here your codes\n",
        "proba_col1_knowing_col2(data=final_db, col1=\"gender\", col2=\"channels\", col2_modalitie=\"male\", normalize=\"index\")"
      ],
      "execution_count": 53,
      "outputs": [
        {
          "output_type": "stream",
          "text": [
            "Probability of gender knowing channels = male: \n",
            "The probability of gender as male knowing Ayiti Analytics Website is : 0.7333\n",
            "The probability of gender as male knowing Bootcamp Alumni is : 0.4286\n",
            "The probability of gender as male knowing ESIH is : 0.7222\n",
            "The probability of gender as male knowing Facebook is : 0.85\n",
            "The probability of gender as male knowing Friend is : 0.8358\n",
            "The probability of gender as male knowing Instagram is : 0.8\n",
            "The probability of gender as male knowing LinkedIn is : 0.9333\n",
            "The probability of gender as male knowing WhatsApp is : 0.8636\n",
            "The probability of gender as male knowing other is : 0.7778\n",
            "The probability of gender as male knowing unknown is : 1.0\n"
          ],
          "name": "stdout"
        }
      ]
    },
    {
      "cell_type": "markdown",
      "metadata": {
        "id": "CzCcEKNkAucV"
      },
      "source": [
        "### 15 Display a plot to see Gender vs Communication Channels .Is there any dependency between communication channels and gender?"
      ]
    },
    {
      "cell_type": "code",
      "metadata": {
        "id": "RQsEvIjqHiL3"
      },
      "source": [
        "def graph_and_test(data=final_db, col1=\"\", col2=\"\", graph_title =\"Communication channels by gender\", l=(12,6)):\n",
        "  graph_tab = pd.crosstab(data[col1], final_db[col2], margins = True)\n",
        "  graph_tab.iloc[:-1,:-1].plot.bar(figsize=l)\n",
        "  plt.title(graph_title)\n",
        "  plt.legend()\n",
        "  plt.show()\n",
        "  chi2, pval, dof, expected = chi2_contingency(graph_tab[graph_tab.All>5].iloc[:-1,:-1])\n",
        "  print(f\"We perform a test of khi-square on the variable {col1} and {col2}.\")\n",
        "  if pval<0.05:\n",
        "    print(f\"we find out that {pval} is smaller than 0.05\")\n",
        "    print(f\"we can therefore conclude that the association between the variables {col1} and {col2} is statistically significant.\")\n",
        "  else:\n",
        "    print(f\"we find out that {pval} is bigger than 0.05\")\n",
        "    print(f\"we can therefore conclude that the association between the variables \\n{col1} and {col2} is not statistically significant.\")\n",
        "\n"
      ],
      "execution_count": 95,
      "outputs": []
    },
    {
      "cell_type": "code",
      "metadata": {
        "id": "aSnCScnIR-0V",
        "colab": {
          "base_uri": "https://localhost:8080/",
          "height": 562
        },
        "outputId": "d2b56126-4efa-4205-b83b-fafa682c1f7b"
      },
      "source": [
        "graph_and_test(col1=\"channels\", col2=\"gender\")"
      ],
      "execution_count": 96,
      "outputs": [
        {
          "output_type": "display_data",
          "data": {
            "image/png": "[encoded data removed]",
            "text/plain": [
              "<Figure size 864x432 with 1 Axes>"
            ]
          },
          "metadata": {
            "tags": []
          }
        },
        {
          "output_type": "stream",
          "text": [
            "We perform a test of khi-square on the variable channels and gender.\n",
            "we find out that 0.010697487425548971 is smaller than 0.05\n",
            "we can therefore conclude that the association between the variables channels and gender is statistically significant.\n"
          ],
          "name": "stdout"
        }
      ]
    },
    {
      "cell_type": "markdown",
      "metadata": {
        "id": "8rUywX7FAucW"
      },
      "source": [
        "### 16 Use the same method to display plot and know if is there any dependency between communication channels and Bootcamp Insterest?"
      ]
    },
    {
      "cell_type": "code",
      "metadata": {
        "id": "lf4UM1y-AucX",
        "colab": {
          "base_uri": "https://localhost:8080/",
          "height": 579
        },
        "outputId": "7c6796a2-83ec-45f8-9c79-be5b6cbe3795"
      },
      "source": [
        "# here your codes\n",
        "graph_and_test(col1=\"channels\", col2=\"interest\", graph_title =\"Communication channels by bootcamp interest\", l=(16,6))"
      ],
      "execution_count": 97,
      "outputs": [
        {
          "output_type": "display_data",
          "data": {
            "image/png": "[encoded data removed]",
            "text/plain": [
              "<Figure size 1152x432 with 1 Axes>"
            ]
          },
          "metadata": {
            "tags": []
          }
        },
        {
          "output_type": "stream",
          "text": [
            "We perform a test of khi-square on the variable channels and interest.\n",
            "we find out that 0.23290336731984587 is bigger than 0.05\n",
            "we can therefore conclude that the association between the variables \n",
            "channels and interest is not statistically significant.\n"
          ],
          "name": "stdout"
        }
      ]
    },
    {
      "cell_type": "markdown",
      "metadata": {
        "id": "ruAlUBj9AucY"
      },
      "source": [
        "### 17.Plan a BA  strategy for each communication channel, Bootcamp Insterest regarding the gender "
      ]
    },
    {
      "cell_type": "code",
      "metadata": {
        "id": "WE7ROIZfAuca"
      },
      "source": [
        "#here your codes\n"
      ],
      "execution_count": 57,
      "outputs": []
    },
    {
      "cell_type": "markdown",
      "metadata": {
        "id": "unZq_ZX6Aucb"
      },
      "source": [
        "### 18.Plan a BA  strategy for each communication channel, Bootcamp Insterest regarding the gender"
      ]
    },
    {
      "cell_type": "code",
      "metadata": {
        "id": "-uRjuKLdAucc"
      },
      "source": [
        "# here your codes\n"
      ],
      "execution_count": 58,
      "outputs": []
    },
    {
      "cell_type": "markdown",
      "metadata": {
        "id": "f9tRZxkgAucc"
      },
      "source": [
        "### 19. Calculate \n",
        "    * P(Bootcamp Insterest,Communication channels,Gender/Payed=yes)\n",
        "    * P(Bootcamp Insterest,Communication channels,Gender/Payed=no)"
      ]
    },
    {
      "cell_type": "code",
      "metadata": {
        "colab": {
          "base_uri": "https://localhost:8080/",
          "height": 1000
        },
        "id": "bX9MDj84zXmT",
        "outputId": "54c7bc16-17b0-408c-f38c-77af0a9a628e"
      },
      "source": [
        "def calcul_proba(payed=\"\", p=\"\"):\n",
        "  m = len(final_db[final_db[\"paid\"]==payed])\n",
        "  cond_proba = pd.pivot_table(final_db[final_db[\"paid\"]==\"yes\"], values=\"quest_id\", index=[\"interest\",\"channels\", \"gender\"], aggfunc='count')\n",
        "  cond_proba[\"quest_id\"] = cond_proba[\"quest_id\"]/m\n",
        "  cond_proba.rename(columns={\"quest_id\": p}, inplace=True)\n",
        "  return cond_proba\n",
        "prob1 = calcul_proba(payed=\"yes\", p=\"P(Bootcamp Insterest,Communication channels,Gender/Payed=yes)\")\n",
        "prob1"
      ],
      "execution_count": 92,
      "outputs": [
        {
          "output_type": "execute_result",
          "data": {
            "text/html": [
              "<div>\n",
              "<style scoped>\n",
              "    .dataframe tbody tr th:only-of-type {\n",
              "        vertical-align: middle;\n",
              "    }\n",
              "\n",
              "    .dataframe tbody tr th {\n",
              "        vertical-align: top;\n",
              "    }\n",
              "\n",
              "    .dataframe thead th {\n",
              "        text-align: right;\n",
              "    }\n",
              "</style>\n",
              "<table border=\"1\" class=\"dataframe\">\n",
              "  <thead>\n",
              "    <tr style=\"text-align: right;\">\n",
              "      <th></th>\n",
              "      <th></th>\n",
              "      <th></th>\n",
              "      <th>P(Bootcamp Insterest,Communication channels,Gender/Payed=yes)</th>\n",
              "    </tr>\n",
              "    <tr>\n",
              "      <th>interest</th>\n",
              "      <th>channels</th>\n",
              "      <th>gender</th>\n",
              "      <th></th>\n",
              "    </tr>\n",
              "  </thead>\n",
              "  <tbody>\n",
              "    <tr>\n",
              "      <th rowspan=\"10\" valign=\"top\">Finding a job/internship</th>\n",
              "      <th>Ayiti Analytics Website</th>\n",
              "      <th>male</th>\n",
              "      <td>0.015385</td>\n",
              "    </tr>\n",
              "    <tr>\n",
              "      <th>Bootcamp Alumni</th>\n",
              "      <th>female</th>\n",
              "      <td>0.015385</td>\n",
              "    </tr>\n",
              "    <tr>\n",
              "      <th>ESIH</th>\n",
              "      <th>male</th>\n",
              "      <td>0.015385</td>\n",
              "    </tr>\n",
              "    <tr>\n",
              "      <th>Facebook</th>\n",
              "      <th>male</th>\n",
              "      <td>0.015385</td>\n",
              "    </tr>\n",
              "    <tr>\n",
              "      <th rowspan=\"2\" valign=\"top\">Friend</th>\n",
              "      <th>female</th>\n",
              "      <td>0.015385</td>\n",
              "    </tr>\n",
              "    <tr>\n",
              "      <th>male</th>\n",
              "      <td>0.030769</td>\n",
              "    </tr>\n",
              "    <tr>\n",
              "      <th>Instagram</th>\n",
              "      <th>male</th>\n",
              "      <td>0.015385</td>\n",
              "    </tr>\n",
              "    <tr>\n",
              "      <th>LinkedIn</th>\n",
              "      <th>male</th>\n",
              "      <td>0.015385</td>\n",
              "    </tr>\n",
              "    <tr>\n",
              "      <th rowspan=\"2\" valign=\"top\">WhatsApp</th>\n",
              "      <th>female</th>\n",
              "      <td>0.015385</td>\n",
              "    </tr>\n",
              "    <tr>\n",
              "      <th>male</th>\n",
              "      <td>0.046154</td>\n",
              "    </tr>\n",
              "    <tr>\n",
              "      <th rowspan=\"13\" valign=\"top\">Improving my data analysis skills</th>\n",
              "      <th>Ayiti Analytics Website</th>\n",
              "      <th>male</th>\n",
              "      <td>0.015385</td>\n",
              "    </tr>\n",
              "    <tr>\n",
              "      <th rowspan=\"2\" valign=\"top\">Bootcamp Alumni</th>\n",
              "      <th>female</th>\n",
              "      <td>0.015385</td>\n",
              "    </tr>\n",
              "    <tr>\n",
              "      <th>male</th>\n",
              "      <td>0.076923</td>\n",
              "    </tr>\n",
              "    <tr>\n",
              "      <th>ESIH</th>\n",
              "      <th>male</th>\n",
              "      <td>0.030769</td>\n",
              "    </tr>\n",
              "    <tr>\n",
              "      <th rowspan=\"2\" valign=\"top\">Facebook</th>\n",
              "      <th>female</th>\n",
              "      <td>0.030769</td>\n",
              "    </tr>\n",
              "    <tr>\n",
              "      <th>male</th>\n",
              "      <td>0.076923</td>\n",
              "    </tr>\n",
              "    <tr>\n",
              "      <th rowspan=\"2\" valign=\"top\">Friend</th>\n",
              "      <th>female</th>\n",
              "      <td>0.030769</td>\n",
              "    </tr>\n",
              "    <tr>\n",
              "      <th>male</th>\n",
              "      <td>0.215385</td>\n",
              "    </tr>\n",
              "    <tr>\n",
              "      <th rowspan=\"2\" valign=\"top\">LinkedIn</th>\n",
              "      <th>female</th>\n",
              "      <td>0.015385</td>\n",
              "    </tr>\n",
              "    <tr>\n",
              "      <th>male</th>\n",
              "      <td>0.015385</td>\n",
              "    </tr>\n",
              "    <tr>\n",
              "      <th rowspan=\"2\" valign=\"top\">WhatsApp</th>\n",
              "      <th>female</th>\n",
              "      <td>0.046154</td>\n",
              "    </tr>\n",
              "    <tr>\n",
              "      <th>male</th>\n",
              "      <td>0.046154</td>\n",
              "    </tr>\n",
              "    <tr>\n",
              "      <th>other</th>\n",
              "      <th>male</th>\n",
              "      <td>0.015385</td>\n",
              "    </tr>\n",
              "    <tr>\n",
              "      <th>Mentorship</th>\n",
              "      <th>other</th>\n",
              "      <th>female</th>\n",
              "      <td>0.015385</td>\n",
              "    </tr>\n",
              "    <tr>\n",
              "      <th>Switching careers</th>\n",
              "      <th>Bootcamp Alumni</th>\n",
              "      <th>female</th>\n",
              "      <td>0.015385</td>\n",
              "    </tr>\n",
              "    <tr>\n",
              "      <th rowspan=\"4\" valign=\"top\">Training to start my own company</th>\n",
              "      <th>Ayiti Analytics Website</th>\n",
              "      <th>male</th>\n",
              "      <td>0.015385</td>\n",
              "    </tr>\n",
              "    <tr>\n",
              "      <th>Facebook</th>\n",
              "      <th>male</th>\n",
              "      <td>0.015385</td>\n",
              "    </tr>\n",
              "    <tr>\n",
              "      <th>Friend</th>\n",
              "      <th>male</th>\n",
              "      <td>0.046154</td>\n",
              "    </tr>\n",
              "    <tr>\n",
              "      <th>WhatsApp</th>\n",
              "      <th>male</th>\n",
              "      <td>0.030769</td>\n",
              "    </tr>\n",
              "    <tr>\n",
              "      <th rowspan=\"2\" valign=\"top\">other</th>\n",
              "      <th>ESIH</th>\n",
              "      <th>male</th>\n",
              "      <td>0.015385</td>\n",
              "    </tr>\n",
              "    <tr>\n",
              "      <th>WhatsApp</th>\n",
              "      <th>male</th>\n",
              "      <td>0.015385</td>\n",
              "    </tr>\n",
              "    <tr>\n",
              "      <th>All</th>\n",
              "      <th></th>\n",
              "      <th></th>\n",
              "      <td>1.000000</td>\n",
              "    </tr>\n",
              "  </tbody>\n",
              "</table>\n",
              "</div>"
            ],
            "text/plain": [
              "                                                                  P(Bootcamp Insterest,Communication channels,Gender/Payed=yes)\n",
              "interest                          channels                gender                                                               \n",
              "Finding a job/internship          Ayiti Analytics Website male                                             0.015385            \n",
              "                                  Bootcamp Alumni         female                                           0.015385            \n",
              "                                  ESIH                    male                                             0.015385            \n",
              "                                  Facebook                male                                             0.015385            \n",
              "                                  Friend                  female                                           0.015385            \n",
              "                                                          male                                             0.030769            \n",
              "                                  Instagram               male                                             0.015385            \n",
              "                                  LinkedIn                male                                             0.015385            \n",
              "                                  WhatsApp                female                                           0.015385            \n",
              "                                                          male                                             0.046154            \n",
              "Improving my data analysis skills Ayiti Analytics Website male                                             0.015385            \n",
              "                                  Bootcamp Alumni         female                                           0.015385            \n",
              "                                                          male                                             0.076923            \n",
              "                                  ESIH                    male                                             0.030769            \n",
              "                                  Facebook                female                                           0.030769            \n",
              "                                                          male                                             0.076923            \n",
              "                                  Friend                  female                                           0.030769            \n",
              "                                                          male                                             0.215385            \n",
              "                                  LinkedIn                female                                           0.015385            \n",
              "                                                          male                                             0.015385            \n",
              "                                  WhatsApp                female                                           0.046154            \n",
              "                                                          male                                             0.046154            \n",
              "                                  other                   male                                             0.015385            \n",
              "Mentorship                        other                   female                                           0.015385            \n",
              "Switching careers                 Bootcamp Alumni         female                                           0.015385            \n",
              "Training to start my own company  Ayiti Analytics Website male                                             0.015385            \n",
              "                                  Facebook                male                                             0.015385            \n",
              "                                  Friend                  male                                             0.046154            \n",
              "                                  WhatsApp                male                                             0.030769            \n",
              "other                             ESIH                    male                                             0.015385            \n",
              "                                  WhatsApp                male                                             0.015385            \n",
              "All                                                                                                        1.000000            "
            ]
          },
          "metadata": {
            "tags": []
          },
          "execution_count": 92
        }
      ]
    },
    {
      "cell_type": "code",
      "metadata": {
        "colab": {
          "base_uri": "https://localhost:8080/",
          "height": 1000
        },
        "id": "h1o-VCzdVvlf",
        "outputId": "aec0009e-ad47-4400-a96c-d914f19b605c"
      },
      "source": [
        "prob2 = calcul_proba(payed=\"no\", p=\"P(Bootcamp Insterest,Communication channels,Gender/Payed=no)\")\n",
        "prob2"
      ],
      "execution_count": 93,
      "outputs": [
        {
          "output_type": "execute_result",
          "data": {
            "text/html": [
              "<div>\n",
              "<style scoped>\n",
              "    .dataframe tbody tr th:only-of-type {\n",
              "        vertical-align: middle;\n",
              "    }\n",
              "\n",
              "    .dataframe tbody tr th {\n",
              "        vertical-align: top;\n",
              "    }\n",
              "\n",
              "    .dataframe thead th {\n",
              "        text-align: right;\n",
              "    }\n",
              "</style>\n",
              "<table border=\"1\" class=\"dataframe\">\n",
              "  <thead>\n",
              "    <tr style=\"text-align: right;\">\n",
              "      <th></th>\n",
              "      <th></th>\n",
              "      <th></th>\n",
              "      <th>P(Bootcamp Insterest,Communication channels,Gender/Payed=no)</th>\n",
              "    </tr>\n",
              "    <tr>\n",
              "      <th>interest</th>\n",
              "      <th>channels</th>\n",
              "      <th>gender</th>\n",
              "      <th></th>\n",
              "    </tr>\n",
              "  </thead>\n",
              "  <tbody>\n",
              "    <tr>\n",
              "      <th rowspan=\"10\" valign=\"top\">Finding a job/internship</th>\n",
              "      <th>Ayiti Analytics Website</th>\n",
              "      <th>male</th>\n",
              "      <td>0.005405</td>\n",
              "    </tr>\n",
              "    <tr>\n",
              "      <th>Bootcamp Alumni</th>\n",
              "      <th>female</th>\n",
              "      <td>0.005405</td>\n",
              "    </tr>\n",
              "    <tr>\n",
              "      <th>ESIH</th>\n",
              "      <th>male</th>\n",
              "      <td>0.005405</td>\n",
              "    </tr>\n",
              "    <tr>\n",
              "      <th>Facebook</th>\n",
              "      <th>male</th>\n",
              "      <td>0.005405</td>\n",
              "    </tr>\n",
              "    <tr>\n",
              "      <th rowspan=\"2\" valign=\"top\">Friend</th>\n",
              "      <th>female</th>\n",
              "      <td>0.005405</td>\n",
              "    </tr>\n",
              "    <tr>\n",
              "      <th>male</th>\n",
              "      <td>0.010811</td>\n",
              "    </tr>\n",
              "    <tr>\n",
              "      <th>Instagram</th>\n",
              "      <th>male</th>\n",
              "      <td>0.005405</td>\n",
              "    </tr>\n",
              "    <tr>\n",
              "      <th>LinkedIn</th>\n",
              "      <th>male</th>\n",
              "      <td>0.005405</td>\n",
              "    </tr>\n",
              "    <tr>\n",
              "      <th rowspan=\"2\" valign=\"top\">WhatsApp</th>\n",
              "      <th>female</th>\n",
              "      <td>0.005405</td>\n",
              "    </tr>\n",
              "    <tr>\n",
              "      <th>male</th>\n",
              "      <td>0.016216</td>\n",
              "    </tr>\n",
              "    <tr>\n",
              "      <th rowspan=\"13\" valign=\"top\">Improving my data analysis skills</th>\n",
              "      <th>Ayiti Analytics Website</th>\n",
              "      <th>male</th>\n",
              "      <td>0.005405</td>\n",
              "    </tr>\n",
              "    <tr>\n",
              "      <th rowspan=\"2\" valign=\"top\">Bootcamp Alumni</th>\n",
              "      <th>female</th>\n",
              "      <td>0.005405</td>\n",
              "    </tr>\n",
              "    <tr>\n",
              "      <th>male</th>\n",
              "      <td>0.027027</td>\n",
              "    </tr>\n",
              "    <tr>\n",
              "      <th>ESIH</th>\n",
              "      <th>male</th>\n",
              "      <td>0.010811</td>\n",
              "    </tr>\n",
              "    <tr>\n",
              "      <th rowspan=\"2\" valign=\"top\">Facebook</th>\n",
              "      <th>female</th>\n",
              "      <td>0.010811</td>\n",
              "    </tr>\n",
              "    <tr>\n",
              "      <th>male</th>\n",
              "      <td>0.027027</td>\n",
              "    </tr>\n",
              "    <tr>\n",
              "      <th rowspan=\"2\" valign=\"top\">Friend</th>\n",
              "      <th>female</th>\n",
              "      <td>0.010811</td>\n",
              "    </tr>\n",
              "    <tr>\n",
              "      <th>male</th>\n",
              "      <td>0.075676</td>\n",
              "    </tr>\n",
              "    <tr>\n",
              "      <th rowspan=\"2\" valign=\"top\">LinkedIn</th>\n",
              "      <th>female</th>\n",
              "      <td>0.005405</td>\n",
              "    </tr>\n",
              "    <tr>\n",
              "      <th>male</th>\n",
              "      <td>0.005405</td>\n",
              "    </tr>\n",
              "    <tr>\n",
              "      <th rowspan=\"2\" valign=\"top\">WhatsApp</th>\n",
              "      <th>female</th>\n",
              "      <td>0.016216</td>\n",
              "    </tr>\n",
              "    <tr>\n",
              "      <th>male</th>\n",
              "      <td>0.016216</td>\n",
              "    </tr>\n",
              "    <tr>\n",
              "      <th>other</th>\n",
              "      <th>male</th>\n",
              "      <td>0.005405</td>\n",
              "    </tr>\n",
              "    <tr>\n",
              "      <th>Mentorship</th>\n",
              "      <th>other</th>\n",
              "      <th>female</th>\n",
              "      <td>0.005405</td>\n",
              "    </tr>\n",
              "    <tr>\n",
              "      <th>Switching careers</th>\n",
              "      <th>Bootcamp Alumni</th>\n",
              "      <th>female</th>\n",
              "      <td>0.005405</td>\n",
              "    </tr>\n",
              "    <tr>\n",
              "      <th rowspan=\"4\" valign=\"top\">Training to start my own company</th>\n",
              "      <th>Ayiti Analytics Website</th>\n",
              "      <th>male</th>\n",
              "      <td>0.005405</td>\n",
              "    </tr>\n",
              "    <tr>\n",
              "      <th>Facebook</th>\n",
              "      <th>male</th>\n",
              "      <td>0.005405</td>\n",
              "    </tr>\n",
              "    <tr>\n",
              "      <th>Friend</th>\n",
              "      <th>male</th>\n",
              "      <td>0.016216</td>\n",
              "    </tr>\n",
              "    <tr>\n",
              "      <th>WhatsApp</th>\n",
              "      <th>male</th>\n",
              "      <td>0.010811</td>\n",
              "    </tr>\n",
              "    <tr>\n",
              "      <th rowspan=\"2\" valign=\"top\">other</th>\n",
              "      <th>ESIH</th>\n",
              "      <th>male</th>\n",
              "      <td>0.005405</td>\n",
              "    </tr>\n",
              "    <tr>\n",
              "      <th>WhatsApp</th>\n",
              "      <th>male</th>\n",
              "      <td>0.005405</td>\n",
              "    </tr>\n",
              "    <tr>\n",
              "      <th>All</th>\n",
              "      <th></th>\n",
              "      <th></th>\n",
              "      <td>0.351351</td>\n",
              "    </tr>\n",
              "  </tbody>\n",
              "</table>\n",
              "</div>"
            ],
            "text/plain": [
              "                                                                  P(Bootcamp Insterest,Communication channels,Gender/Payed=no)\n",
              "interest                          channels                gender                                                              \n",
              "Finding a job/internship          Ayiti Analytics Website male                                             0.005405           \n",
              "                                  Bootcamp Alumni         female                                           0.005405           \n",
              "                                  ESIH                    male                                             0.005405           \n",
              "                                  Facebook                male                                             0.005405           \n",
              "                                  Friend                  female                                           0.005405           \n",
              "                                                          male                                             0.010811           \n",
              "                                  Instagram               male                                             0.005405           \n",
              "                                  LinkedIn                male                                             0.005405           \n",
              "                                  WhatsApp                female                                           0.005405           \n",
              "                                                          male                                             0.016216           \n",
              "Improving my data analysis skills Ayiti Analytics Website male                                             0.005405           \n",
              "                                  Bootcamp Alumni         female                                           0.005405           \n",
              "                                                          male                                             0.027027           \n",
              "                                  ESIH                    male                                             0.010811           \n",
              "                                  Facebook                female                                           0.010811           \n",
              "                                                          male                                             0.027027           \n",
              "                                  Friend                  female                                           0.010811           \n",
              "                                                          male                                             0.075676           \n",
              "                                  LinkedIn                female                                           0.005405           \n",
              "                                                          male                                             0.005405           \n",
              "                                  WhatsApp                female                                           0.016216           \n",
              "                                                          male                                             0.016216           \n",
              "                                  other                   male                                             0.005405           \n",
              "Mentorship                        other                   female                                           0.005405           \n",
              "Switching careers                 Bootcamp Alumni         female                                           0.005405           \n",
              "Training to start my own company  Ayiti Analytics Website male                                             0.005405           \n",
              "                                  Facebook                male                                             0.005405           \n",
              "                                  Friend                  male                                             0.016216           \n",
              "                                  WhatsApp                male                                             0.010811           \n",
              "other                             ESIH                    male                                             0.005405           \n",
              "                                  WhatsApp                male                                             0.005405           \n",
              "All                                                                                                        0.351351           "
            ]
          },
          "metadata": {
            "tags": []
          },
          "execution_count": 93
        }
      ]
    },
    {
      "cell_type": "markdown",
      "metadata": {
        "id": "RfBOC4nhAucd"
      },
      "source": [
        "### 20 reduce \n",
        "* P(Payed=\"yes\"/Bootcamp Insterest=\"Increase Skill\",Communication channels=\"Friend\",Gender=\"male\")\n",
        "* P(Payed=\"no\"/Bootcamp Insterest=\"Increase Skill\",Communication channels=\"Friend\",Gender=\"male\")"
      ]
    },
    {
      "cell_type": "code",
      "metadata": {
        "id": "4ov7A7KnAucd",
        "colab": {
          "base_uri": "https://localhost:8080/"
        },
        "outputId": "a13d388e-eedb-419e-c960-72a9e47312d0"
      },
      "source": [
        "# here your codes\n",
        "cond = final_db[(final_db[\"interest\"]==\"Improving my data analysis skills\") & (final_db[\"channels\"]==\"Friend\") & (final_db[\"gender\"]==\"male\")]\n",
        "proba = cond.paid.value_counts(normalize=1).to_frame()\n",
        "print(f'P(Payed=\"yes\"/Bootcamp Insterest=\"Increase Skill\",Communication channels=\"Friend\",\\nGender=\"male\") = {proba.at[\"yes\", \"paid\"]}')\n",
        "print(f'P(Payed=\"no\"/Bootcamp Insterest=\"Increase Skill\",Communication channels=\"Friend\",\\nGender=\"male\") = {proba.at[\"no\", \"paid\"]}') "
      ],
      "execution_count": 61,
      "outputs": [
        {
          "output_type": "stream",
          "text": [
            "P(Payed=\"yes\"/Bootcamp Insterest=\"Increase Skill\",Communication channels=\"Friend\",\n",
            "Gender=\"male\") = 0.4375\n",
            "P(Payed=\"no\"/Bootcamp Insterest=\"Increase Skill\",Communication channels=\"Friend\",\n",
            "Gender=\"male\") = 0.5625\n"
          ],
          "name": "stdout"
        }
      ]
    },
    {
      "cell_type": "markdown",
      "metadata": {
        "id": "FIX_3-n7Auce"
      },
      "source": [
        "### Based on these findings, propose strategies to increase our sales?"
      ]
    },
    {
      "cell_type": "code",
      "metadata": {
        "id": "-VYqZWuUAucf"
      },
      "source": [
        "#here your codes"
      ],
      "execution_count": 62,
      "outputs": []
    }
  ]
}